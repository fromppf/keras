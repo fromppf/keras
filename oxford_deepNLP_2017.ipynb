{
  "nbformat": 4,
  "nbformat_minor": 0,
  "metadata": {
    "colab": {
      "name": "oxford deepNLP 2017.ipynb",
      "version": "0.3.2",
      "provenance": [],
      "collapsed_sections": []
    },
    "kernelspec": {
      "name": "python3",
      "display_name": "Python 3"
    },
    "accelerator": "GPU"
  },
  "cells": [
    {
      "cell_type": "markdown",
      "metadata": {
        "id": "view-in-github",
        "colab_type": "text"
      },
      "source": [
        "[View in Colaboratory](https://colab.research.google.com/github/fromppf/keras/blob/keras-1/oxford_deepNLP_2017.ipynb)"
      ]
    },
    {
      "metadata": {
        "id": "vh-e-00pNFUj",
        "colab_type": "text"
      },
      "cell_type": "markdown",
      "source": [
        "### Practical 1: word2vec\n",
        "Oxford CS - Deep NLP 2017\n",
        "https://www.cs.ox.ac.uk/teaching/courses/2016-2017/dl/\n",
        "\n",
        "[Yannis Assael, Brendan Shillingford, Chris Dyer]\n",
        "\n",
        "This practical is presented as an IPython Notebook, with the code written for recent versions of Python 3. The code in this practical will not work with Python 2 unless you modify it. If you are using your own Python installation, ensure you have a setup identical to that described in the installation shell script (which is intended for use with the department lab machines). We will be unable to support installation on personal machines due to time constraints, so please use the lab machines and the setup script if you are unfamiliar with how to install Anaconda.\n",
        "\n",
        "To execute a notebook cell, press shift-enter. The return value of the last command will be displayed, if it is not None.\n",
        "\n",
        "Potentially useful library documentation, references, and resources:\n",
        "\n",
        "* IPython notebooks: https://ipython.org/ipython-doc/3/notebook/notebook.html#introduction\n",
        "* Numpy numerical array library: https://docs.scipy.org/doc/\n",
        "* Gensim's word2vec: https://radimrehurek.com/gensim/models/word2vec.html\n",
        "* Bokeh interactive plots: http://bokeh.pydata.org/en/latest/ (we provide plotting code here, but click the thumbnails for more examples to copy-paste)\n",
        "* scikit-learn ML library (aka sklearn): http://scikit-learn.org/stable/documentation.html\n",
        "* nltk NLP toolkit: http://www.nltk.org/\n",
        "* tutorial for processing xml in python using lxml: http://lxml.de/tutorial.html (we did this for you below, but in case you need it in the future)"
      ]
    },
    {
      "metadata": {
        "id": "6815wiEpNgn2",
        "colab_type": "code",
        "colab": {}
      },
      "cell_type": "code",
      "source": [
        "import numpy as np\n",
        "import os\n",
        "from random import shuffle\n",
        "import re"
      ],
      "execution_count": 0,
      "outputs": []
    },
    {
      "metadata": {
        "id": "okw6e1dVN5lZ",
        "colab_type": "code",
        "colab": {
          "base_uri": "https://localhost:8080/",
          "height": 340
        },
        "outputId": "533c4167-8abe-4289-99d6-7cd2f0d2ff9a"
      },
      "cell_type": "code",
      "source": [
        "!pip install bokeh"
      ],
      "execution_count": 3,
      "outputs": [
        {
          "output_type": "stream",
          "text": [
            "Collecting bokeh\n",
            "  Downloading bokeh-0.12.15.tar.gz (13.6MB)\n",
            "\u001b[K    100% |████████████████████████████████| 13.6MB 99kB/s \n",
            "\u001b[?25hRequirement already satisfied: Jinja2>=2.7 in /usr/local/lib/python3.6/dist-packages (from bokeh)\n",
            "Requirement already satisfied: PyYAML>=3.10 in /usr/local/lib/python3.6/dist-packages (from bokeh)\n",
            "Requirement already satisfied: numpy>=1.7.1 in /usr/local/lib/python3.6/dist-packages (from bokeh)\n",
            "Collecting packaging>=16.8 (from bokeh)\n",
            "  Downloading packaging-17.1-py2.py3-none-any.whl\n",
            "Requirement already satisfied: python-dateutil>=2.1 in /usr/local/lib/python3.6/dist-packages (from bokeh)\n",
            "Requirement already satisfied: six>=1.5.2 in /usr/local/lib/python3.6/dist-packages (from bokeh)\n",
            "Requirement already satisfied: tornado>=4.3 in /usr/local/lib/python3.6/dist-packages (from bokeh)\n",
            "Requirement already satisfied: MarkupSafe in /usr/local/lib/python3.6/dist-packages (from Jinja2>=2.7->bokeh)\n",
            "Requirement already satisfied: pyparsing>=2.0.2 in /usr/local/lib/python3.6/dist-packages (from packaging>=16.8->bokeh)\n",
            "Building wheels for collected packages: bokeh\n",
            "  Running setup.py bdist_wheel for bokeh ... \u001b[?25l-\b \b\\\b \b|\b \b/\b \b-\b \b\\\b \b|\b \b/\b \b-\b \b\\\b \b|\b \bdone\n",
            "\u001b[?25h  Stored in directory: /content/.cache/pip/wheels/74/92/e2/b09e82290a5419035a97ee96b553fb94d95e6ae83641bd75c2\n",
            "Successfully built bokeh\n",
            "Installing collected packages: packaging, bokeh\n",
            "Successfully installed bokeh-0.12.15 packaging-17.1\n"
          ],
          "name": "stdout"
        }
      ]
    },
    {
      "metadata": {
        "id": "L3I9x2veNrJw",
        "colab_type": "code",
        "colab": {
          "base_uri": "https://localhost:8080/",
          "height": 47
        },
        "outputId": "5ed92b70-d688-412a-e8b8-f899cc37834e"
      },
      "cell_type": "code",
      "source": [
        "from bokeh.models import ColumnDataSource, LabelSet\n",
        "from bokeh.plotting import figure, show, output_file\n",
        "from bokeh.io import output_notebook\n",
        "output_notebook()"
      ],
      "execution_count": 4,
      "outputs": [
        {
          "output_type": "display_data",
          "data": {
            "text/html": [
              "\n",
              "    <div class=\"bk-root\">\n",
              "        <a href=\"https://bokeh.pydata.org\" target=\"_blank\" class=\"bk-logo bk-logo-small bk-logo-notebook\"></a>\n",
              "        <span id=\"e9329770-4cf6-4b1f-b506-31c7ab95f60f\">Loading BokehJS ...</span>\n",
              "    </div>"
            ]
          },
          "metadata": {
            "tags": []
          }
        },
        {
          "output_type": "display_data",
          "data": {
            "application/javascript": [
              "\n",
              "(function(root) {\n",
              "  function now() {\n",
              "    return new Date();\n",
              "  }\n",
              "\n",
              "  var force = true;\n",
              "\n",
              "  if (typeof (root._bokeh_onload_callbacks) === \"undefined\" || force === true) {\n",
              "    root._bokeh_onload_callbacks = [];\n",
              "    root._bokeh_is_loading = undefined;\n",
              "  }\n",
              "\n",
              "  var JS_MIME_TYPE = 'application/javascript';\n",
              "  var HTML_MIME_TYPE = 'text/html';\n",
              "  var EXEC_MIME_TYPE = 'application/vnd.bokehjs_exec.v0+json';\n",
              "  var CLASS_NAME = 'output_bokeh rendered_html';\n",
              "\n",
              "  /**\n",
              "   * Render data to the DOM node\n",
              "   */\n",
              "  function render(props, node) {\n",
              "    var script = document.createElement(\"script\");\n",
              "    node.appendChild(script);\n",
              "  }\n",
              "\n",
              "  /**\n",
              "   * Handle when an output is cleared or removed\n",
              "   */\n",
              "  function handleClearOutput(event, handle) {\n",
              "    var cell = handle.cell;\n",
              "\n",
              "    var id = cell.output_area._bokeh_element_id;\n",
              "    var server_id = cell.output_area._bokeh_server_id;\n",
              "    // Clean up Bokeh references\n",
              "    if (id !== undefined) {\n",
              "      Bokeh.index[id].model.document.clear();\n",
              "      delete Bokeh.index[id];\n",
              "    }\n",
              "\n",
              "    if (server_id !== undefined) {\n",
              "      // Clean up Bokeh references\n",
              "      var cmd = \"from bokeh.io.state import curstate; print(curstate().uuid_to_server['\" + server_id + \"'].get_sessions()[0].document.roots[0]._id)\";\n",
              "      cell.notebook.kernel.execute(cmd, {\n",
              "        iopub: {\n",
              "          output: function(msg) {\n",
              "            var element_id = msg.content.text.trim();\n",
              "            Bokeh.index[element_id].model.document.clear();\n",
              "            delete Bokeh.index[element_id];\n",
              "          }\n",
              "        }\n",
              "      });\n",
              "      // Destroy server and session\n",
              "      var cmd = \"import bokeh.io.notebook as ion; ion.destroy_server('\" + server_id + \"')\";\n",
              "      cell.notebook.kernel.execute(cmd);\n",
              "    }\n",
              "  }\n",
              "\n",
              "  /**\n",
              "   * Handle when a new output is added\n",
              "   */\n",
              "  function handleAddOutput(event, handle) {\n",
              "    var output_area = handle.output_area;\n",
              "    var output = handle.output;\n",
              "\n",
              "    // limit handleAddOutput to display_data with EXEC_MIME_TYPE content only\n",
              "    if ((output.output_type != \"display_data\") || (!output.data.hasOwnProperty(EXEC_MIME_TYPE))) {\n",
              "      return\n",
              "    }\n",
              "\n",
              "    var toinsert = output_area.element.find(\".\" + CLASS_NAME.split(' ')[0]);\n",
              "\n",
              "    if (output.metadata[EXEC_MIME_TYPE][\"id\"] !== undefined) {\n",
              "      toinsert[toinsert.length - 1].firstChild.textContent = output.data[JS_MIME_TYPE];\n",
              "      // store reference to embed id on output_area\n",
              "      output_area._bokeh_element_id = output.metadata[EXEC_MIME_TYPE][\"id\"];\n",
              "    }\n",
              "    if (output.metadata[EXEC_MIME_TYPE][\"server_id\"] !== undefined) {\n",
              "      var bk_div = document.createElement(\"div\");\n",
              "      bk_div.innerHTML = output.data[HTML_MIME_TYPE];\n",
              "      var script_attrs = bk_div.children[0].attributes;\n",
              "      for (var i = 0; i < script_attrs.length; i++) {\n",
              "        toinsert[toinsert.length - 1].firstChild.setAttribute(script_attrs[i].name, script_attrs[i].value);\n",
              "      }\n",
              "      // store reference to server id on output_area\n",
              "      output_area._bokeh_server_id = output.metadata[EXEC_MIME_TYPE][\"server_id\"];\n",
              "    }\n",
              "  }\n",
              "\n",
              "  function register_renderer(events, OutputArea) {\n",
              "\n",
              "    function append_mime(data, metadata, element) {\n",
              "      // create a DOM node to render to\n",
              "      var toinsert = this.create_output_subarea(\n",
              "        metadata,\n",
              "        CLASS_NAME,\n",
              "        EXEC_MIME_TYPE\n",
              "      );\n",
              "      this.keyboard_manager.register_events(toinsert);\n",
              "      // Render to node\n",
              "      var props = {data: data, metadata: metadata[EXEC_MIME_TYPE]};\n",
              "      render(props, toinsert[toinsert.length - 1]);\n",
              "      element.append(toinsert);\n",
              "      return toinsert\n",
              "    }\n",
              "\n",
              "    /* Handle when an output is cleared or removed */\n",
              "    events.on('clear_output.CodeCell', handleClearOutput);\n",
              "    events.on('delete.Cell', handleClearOutput);\n",
              "\n",
              "    /* Handle when a new output is added */\n",
              "    events.on('output_added.OutputArea', handleAddOutput);\n",
              "\n",
              "    /**\n",
              "     * Register the mime type and append_mime function with output_area\n",
              "     */\n",
              "    OutputArea.prototype.register_mime_type(EXEC_MIME_TYPE, append_mime, {\n",
              "      /* Is output safe? */\n",
              "      safe: true,\n",
              "      /* Index of renderer in `output_area.display_order` */\n",
              "      index: 0\n",
              "    });\n",
              "  }\n",
              "\n",
              "  // register the mime type if in Jupyter Notebook environment and previously unregistered\n",
              "  if (root.Jupyter !== undefined) {\n",
              "    var events = require('base/js/events');\n",
              "    var OutputArea = require('notebook/js/outputarea').OutputArea;\n",
              "\n",
              "    if (OutputArea.prototype.mime_types().indexOf(EXEC_MIME_TYPE) == -1) {\n",
              "      register_renderer(events, OutputArea);\n",
              "    }\n",
              "  }\n",
              "\n",
              "  \n",
              "  if (typeof (root._bokeh_timeout) === \"undefined\" || force === true) {\n",
              "    root._bokeh_timeout = Date.now() + 5000;\n",
              "    root._bokeh_failed_load = false;\n",
              "  }\n",
              "\n",
              "  var NB_LOAD_WARNING = {'data': {'text/html':\n",
              "     \"<div style='background-color: #fdd'>\\n\"+\n",
              "     \"<p>\\n\"+\n",
              "     \"BokehJS does not appear to have successfully loaded. If loading BokehJS from CDN, this \\n\"+\n",
              "     \"may be due to a slow or bad network connection. Possible fixes:\\n\"+\n",
              "     \"</p>\\n\"+\n",
              "     \"<ul>\\n\"+\n",
              "     \"<li>re-rerun `output_notebook()` to attempt to load from CDN again, or</li>\\n\"+\n",
              "     \"<li>use INLINE resources instead, as so:</li>\\n\"+\n",
              "     \"</ul>\\n\"+\n",
              "     \"<code>\\n\"+\n",
              "     \"from bokeh.resources import INLINE\\n\"+\n",
              "     \"output_notebook(resources=INLINE)\\n\"+\n",
              "     \"</code>\\n\"+\n",
              "     \"</div>\"}};\n",
              "\n",
              "  function display_loaded() {\n",
              "    var el = document.getElementById(\"e9329770-4cf6-4b1f-b506-31c7ab95f60f\");\n",
              "    if (el != null) {\n",
              "      el.textContent = \"BokehJS is loading...\";\n",
              "    }\n",
              "    if (root.Bokeh !== undefined) {\n",
              "      if (el != null) {\n",
              "        el.textContent = \"BokehJS \" + root.Bokeh.version + \" successfully loaded.\";\n",
              "      }\n",
              "    } else if (Date.now() < root._bokeh_timeout) {\n",
              "      setTimeout(display_loaded, 100)\n",
              "    }\n",
              "  }\n",
              "\n",
              "\n",
              "  function run_callbacks() {\n",
              "    try {\n",
              "      root._bokeh_onload_callbacks.forEach(function(callback) { callback() });\n",
              "    }\n",
              "    finally {\n",
              "      delete root._bokeh_onload_callbacks\n",
              "    }\n",
              "    console.info(\"Bokeh: all callbacks have finished\");\n",
              "  }\n",
              "\n",
              "  function load_libs(js_urls, callback) {\n",
              "    root._bokeh_onload_callbacks.push(callback);\n",
              "    if (root._bokeh_is_loading > 0) {\n",
              "      console.log(\"Bokeh: BokehJS is being loaded, scheduling callback at\", now());\n",
              "      return null;\n",
              "    }\n",
              "    if (js_urls == null || js_urls.length === 0) {\n",
              "      run_callbacks();\n",
              "      return null;\n",
              "    }\n",
              "    console.log(\"Bokeh: BokehJS not loaded, scheduling load and callback at\", now());\n",
              "    root._bokeh_is_loading = js_urls.length;\n",
              "    for (var i = 0; i < js_urls.length; i++) {\n",
              "      var url = js_urls[i];\n",
              "      var s = document.createElement('script');\n",
              "      s.src = url;\n",
              "      s.async = false;\n",
              "      s.onreadystatechange = s.onload = function() {\n",
              "        root._bokeh_is_loading--;\n",
              "        if (root._bokeh_is_loading === 0) {\n",
              "          console.log(\"Bokeh: all BokehJS libraries loaded\");\n",
              "          run_callbacks()\n",
              "        }\n",
              "      };\n",
              "      s.onerror = function() {\n",
              "        console.warn(\"failed to load library \" + url);\n",
              "      };\n",
              "      console.log(\"Bokeh: injecting script tag for BokehJS library: \", url);\n",
              "      document.getElementsByTagName(\"head\")[0].appendChild(s);\n",
              "    }\n",
              "  };var element = document.getElementById(\"e9329770-4cf6-4b1f-b506-31c7ab95f60f\");\n",
              "  if (element == null) {\n",
              "    console.log(\"Bokeh: ERROR: autoload.js configured with elementid 'e9329770-4cf6-4b1f-b506-31c7ab95f60f' but no matching script tag was found. \")\n",
              "    return false;\n",
              "  }\n",
              "\n",
              "  var js_urls = [\"https://cdn.pydata.org/bokeh/release/bokeh-0.12.15.min.js\", \"https://cdn.pydata.org/bokeh/release/bokeh-widgets-0.12.15.min.js\", \"https://cdn.pydata.org/bokeh/release/bokeh-tables-0.12.15.min.js\", \"https://cdn.pydata.org/bokeh/release/bokeh-gl-0.12.15.min.js\"];\n",
              "\n",
              "  var inline_js = [\n",
              "    function(Bokeh) {\n",
              "      Bokeh.set_log_level(\"info\");\n",
              "    },\n",
              "    \n",
              "    function(Bokeh) {\n",
              "      \n",
              "    },\n",
              "    function(Bokeh) {\n",
              "      console.log(\"Bokeh: injecting CSS: https://cdn.pydata.org/bokeh/release/bokeh-0.12.15.min.css\");\n",
              "      Bokeh.embed.inject_css(\"https://cdn.pydata.org/bokeh/release/bokeh-0.12.15.min.css\");\n",
              "      console.log(\"Bokeh: injecting CSS: https://cdn.pydata.org/bokeh/release/bokeh-widgets-0.12.15.min.css\");\n",
              "      Bokeh.embed.inject_css(\"https://cdn.pydata.org/bokeh/release/bokeh-widgets-0.12.15.min.css\");\n",
              "      console.log(\"Bokeh: injecting CSS: https://cdn.pydata.org/bokeh/release/bokeh-tables-0.12.15.min.css\");\n",
              "      Bokeh.embed.inject_css(\"https://cdn.pydata.org/bokeh/release/bokeh-tables-0.12.15.min.css\");\n",
              "    }\n",
              "  ];\n",
              "\n",
              "  function run_inline_js() {\n",
              "    \n",
              "    if ((root.Bokeh !== undefined) || (force === true)) {\n",
              "      for (var i = 0; i < inline_js.length; i++) {\n",
              "        inline_js[i].call(root, root.Bokeh);\n",
              "      }if (force === true) {\n",
              "        display_loaded();\n",
              "      }} else if (Date.now() < root._bokeh_timeout) {\n",
              "      setTimeout(run_inline_js, 100);\n",
              "    } else if (!root._bokeh_failed_load) {\n",
              "      console.log(\"Bokeh: BokehJS failed to load within specified timeout.\");\n",
              "      root._bokeh_failed_load = true;\n",
              "    } else if (force !== true) {\n",
              "      var cell = $(document.getElementById(\"e9329770-4cf6-4b1f-b506-31c7ab95f60f\")).parents('.cell').data().cell;\n",
              "      cell.output_area.append_execute_result(NB_LOAD_WARNING)\n",
              "    }\n",
              "\n",
              "  }\n",
              "\n",
              "  if (root._bokeh_is_loading === 0) {\n",
              "    console.log(\"Bokeh: BokehJS loaded, going straight to plotting\");\n",
              "    run_inline_js();\n",
              "  } else {\n",
              "    load_libs(js_urls, function() {\n",
              "      console.log(\"Bokeh: BokehJS plotting callback run at\", now());\n",
              "      run_inline_js();\n",
              "    });\n",
              "  }\n",
              "}(window));"
            ],
            "application/vnd.bokehjs_load.v0+json": "\n(function(root) {\n  function now() {\n    return new Date();\n  }\n\n  var force = true;\n\n  if (typeof (root._bokeh_onload_callbacks) === \"undefined\" || force === true) {\n    root._bokeh_onload_callbacks = [];\n    root._bokeh_is_loading = undefined;\n  }\n\n  \n\n  \n  if (typeof (root._bokeh_timeout) === \"undefined\" || force === true) {\n    root._bokeh_timeout = Date.now() + 5000;\n    root._bokeh_failed_load = false;\n  }\n\n  var NB_LOAD_WARNING = {'data': {'text/html':\n     \"<div style='background-color: #fdd'>\\n\"+\n     \"<p>\\n\"+\n     \"BokehJS does not appear to have successfully loaded. If loading BokehJS from CDN, this \\n\"+\n     \"may be due to a slow or bad network connection. Possible fixes:\\n\"+\n     \"</p>\\n\"+\n     \"<ul>\\n\"+\n     \"<li>re-rerun `output_notebook()` to attempt to load from CDN again, or</li>\\n\"+\n     \"<li>use INLINE resources instead, as so:</li>\\n\"+\n     \"</ul>\\n\"+\n     \"<code>\\n\"+\n     \"from bokeh.resources import INLINE\\n\"+\n     \"output_notebook(resources=INLINE)\\n\"+\n     \"</code>\\n\"+\n     \"</div>\"}};\n\n  function display_loaded() {\n    var el = document.getElementById(\"e9329770-4cf6-4b1f-b506-31c7ab95f60f\");\n    if (el != null) {\n      el.textContent = \"BokehJS is loading...\";\n    }\n    if (root.Bokeh !== undefined) {\n      if (el != null) {\n        el.textContent = \"BokehJS \" + root.Bokeh.version + \" successfully loaded.\";\n      }\n    } else if (Date.now() < root._bokeh_timeout) {\n      setTimeout(display_loaded, 100)\n    }\n  }\n\n\n  function run_callbacks() {\n    try {\n      root._bokeh_onload_callbacks.forEach(function(callback) { callback() });\n    }\n    finally {\n      delete root._bokeh_onload_callbacks\n    }\n    console.info(\"Bokeh: all callbacks have finished\");\n  }\n\n  function load_libs(js_urls, callback) {\n    root._bokeh_onload_callbacks.push(callback);\n    if (root._bokeh_is_loading > 0) {\n      console.log(\"Bokeh: BokehJS is being loaded, scheduling callback at\", now());\n      return null;\n    }\n    if (js_urls == null || js_urls.length === 0) {\n      run_callbacks();\n      return null;\n    }\n    console.log(\"Bokeh: BokehJS not loaded, scheduling load and callback at\", now());\n    root._bokeh_is_loading = js_urls.length;\n    for (var i = 0; i < js_urls.length; i++) {\n      var url = js_urls[i];\n      var s = document.createElement('script');\n      s.src = url;\n      s.async = false;\n      s.onreadystatechange = s.onload = function() {\n        root._bokeh_is_loading--;\n        if (root._bokeh_is_loading === 0) {\n          console.log(\"Bokeh: all BokehJS libraries loaded\");\n          run_callbacks()\n        }\n      };\n      s.onerror = function() {\n        console.warn(\"failed to load library \" + url);\n      };\n      console.log(\"Bokeh: injecting script tag for BokehJS library: \", url);\n      document.getElementsByTagName(\"head\")[0].appendChild(s);\n    }\n  };var element = document.getElementById(\"e9329770-4cf6-4b1f-b506-31c7ab95f60f\");\n  if (element == null) {\n    console.log(\"Bokeh: ERROR: autoload.js configured with elementid 'e9329770-4cf6-4b1f-b506-31c7ab95f60f' but no matching script tag was found. \")\n    return false;\n  }\n\n  var js_urls = [\"https://cdn.pydata.org/bokeh/release/bokeh-0.12.15.min.js\", \"https://cdn.pydata.org/bokeh/release/bokeh-widgets-0.12.15.min.js\", \"https://cdn.pydata.org/bokeh/release/bokeh-tables-0.12.15.min.js\", \"https://cdn.pydata.org/bokeh/release/bokeh-gl-0.12.15.min.js\"];\n\n  var inline_js = [\n    function(Bokeh) {\n      Bokeh.set_log_level(\"info\");\n    },\n    \n    function(Bokeh) {\n      \n    },\n    function(Bokeh) {\n      console.log(\"Bokeh: injecting CSS: https://cdn.pydata.org/bokeh/release/bokeh-0.12.15.min.css\");\n      Bokeh.embed.inject_css(\"https://cdn.pydata.org/bokeh/release/bokeh-0.12.15.min.css\");\n      console.log(\"Bokeh: injecting CSS: https://cdn.pydata.org/bokeh/release/bokeh-widgets-0.12.15.min.css\");\n      Bokeh.embed.inject_css(\"https://cdn.pydata.org/bokeh/release/bokeh-widgets-0.12.15.min.css\");\n      console.log(\"Bokeh: injecting CSS: https://cdn.pydata.org/bokeh/release/bokeh-tables-0.12.15.min.css\");\n      Bokeh.embed.inject_css(\"https://cdn.pydata.org/bokeh/release/bokeh-tables-0.12.15.min.css\");\n    }\n  ];\n\n  function run_inline_js() {\n    \n    if ((root.Bokeh !== undefined) || (force === true)) {\n      for (var i = 0; i < inline_js.length; i++) {\n        inline_js[i].call(root, root.Bokeh);\n      }if (force === true) {\n        display_loaded();\n      }} else if (Date.now() < root._bokeh_timeout) {\n      setTimeout(run_inline_js, 100);\n    } else if (!root._bokeh_failed_load) {\n      console.log(\"Bokeh: BokehJS failed to load within specified timeout.\");\n      root._bokeh_failed_load = true;\n    } else if (force !== true) {\n      var cell = $(document.getElementById(\"e9329770-4cf6-4b1f-b506-31c7ab95f60f\")).parents('.cell').data().cell;\n      cell.output_area.append_execute_result(NB_LOAD_WARNING)\n    }\n\n  }\n\n  if (root._bokeh_is_loading === 0) {\n    console.log(\"Bokeh: BokehJS loaded, going straight to plotting\");\n    run_inline_js();\n  } else {\n    load_libs(js_urls, function() {\n      console.log(\"Bokeh: BokehJS plotting callback run at\", now());\n      run_inline_js();\n    });\n  }\n}(window));"
          },
          "metadata": {
            "tags": []
          }
        }
      ]
    },
    {
      "metadata": {
        "id": "_ykZ2u48OHxl",
        "colab_type": "text"
      },
      "cell_type": "markdown",
      "source": [
        "#### Part 0: Download the TED dataset"
      ]
    },
    {
      "metadata": {
        "id": "sEzX0HeHOdLK",
        "colab_type": "code",
        "colab": {
          "base_uri": "https://localhost:8080/",
          "height": 102
        },
        "outputId": "c4b6851a-5a63-401c-a972-166bba7708fd"
      },
      "cell_type": "code",
      "source": [
        "!pip install lxml"
      ],
      "execution_count": 6,
      "outputs": [
        {
          "output_type": "stream",
          "text": [
            "Collecting lxml\n",
            "  Downloading lxml-4.2.1-cp36-cp36m-manylinux1_x86_64.whl (5.6MB)\n",
            "\u001b[K    100% |████████████████████████████████| 5.7MB 235kB/s \n",
            "\u001b[?25hInstalling collected packages: lxml\n",
            "Successfully installed lxml-4.2.1\n"
          ],
          "name": "stdout"
        }
      ]
    },
    {
      "metadata": {
        "id": "fWFfWFenNxFe",
        "colab_type": "code",
        "colab": {}
      },
      "cell_type": "code",
      "source": [
        "import urllib.request\n",
        "import zipfile\n",
        "import lxml.etree"
      ],
      "execution_count": 0,
      "outputs": []
    },
    {
      "metadata": {
        "id": "si8I2jeuOQ_7",
        "colab_type": "code",
        "colab": {}
      },
      "cell_type": "code",
      "source": [
        "# Download the dataset if it's not already there: this may take a minute as it is 75MB\n",
        "if not os.path.isfile('ted_en-20160408.zip'):\n",
        "    urllib.request.urlretrieve(\"https://wit3.fbk.eu/get.php?path=XML_releases/xml/ted_en-20160408.zip&filename=ted_en-20160408.zip\", filename=\"ted_en-20160408.zip\")"
      ],
      "execution_count": 0,
      "outputs": []
    },
    {
      "metadata": {
        "id": "wo0dfSVSO0c5",
        "colab_type": "code",
        "colab": {}
      },
      "cell_type": "code",
      "source": [
        "# For now, we're only interested in the subtitle text, so let's extract that from the XML:\n",
        "with zipfile.ZipFile('ted_en-20160408.zip', 'r') as z:\n",
        "    doc = lxml.etree.parse(z.open('ted_en-20160408.xml', 'r'))\n",
        "input_text = '\\n'.join(doc.xpath('//content/text()'))\n",
        "del doc"
      ],
      "execution_count": 0,
      "outputs": []
    },
    {
      "metadata": {
        "id": "vIHIzoEpO_SR",
        "colab_type": "text"
      },
      "cell_type": "markdown",
      "source": [
        "#### Part 1: Preprocessing\n",
        "In this part, we attempt to clean up the raw subtitles a bit, so that we get only sentences. The following substring shows examples of what we're trying to get rid of. Since it's hard to define precisely what we want to get rid of, we'll just use some simple heuristics."
      ]
    },
    {
      "metadata": {
        "id": "fXQb0SSjO7lP",
        "colab_type": "code",
        "colab": {
          "base_uri": "https://localhost:8080/",
          "height": 34
        },
        "outputId": "996b65e5-4d89-4008-a8c9-162eeb3e53ca"
      },
      "cell_type": "code",
      "source": [
        "i = input_text.find(\"Hyowon Gweon: See this?\")\n",
        "input_text[i-20:i+150]"
      ],
      "execution_count": 10,
      "outputs": [
        {
          "output_type": "execute_result",
          "data": {
            "text/plain": [
              "' baby does.\\n(Video) Hyowon Gweon: See this? (Ball squeaks) Did you see that? (Ball squeaks) Cool. See this one? (Ball squeaks) Wow.\\nLaura Schulz: Told you. (Laughs)\\n(Vide'"
            ]
          },
          "metadata": {
            "tags": []
          },
          "execution_count": 10
        }
      ]
    },
    {
      "metadata": {
        "id": "bR6HbO8jPMxY",
        "colab_type": "text"
      },
      "cell_type": "markdown",
      "source": [
        "Let's start by removing all parenthesized strings using a regex:"
      ]
    },
    {
      "metadata": {
        "id": "XrYFh35FPR4P",
        "colab_type": "code",
        "colab": {}
      },
      "cell_type": "code",
      "source": [
        "input_text_noparens = re.sub(r'\\([^)]*\\)', '', input_text)"
      ],
      "execution_count": 0,
      "outputs": []
    },
    {
      "metadata": {
        "id": "nnppn5WpPXbt",
        "colab_type": "text"
      },
      "cell_type": "markdown",
      "source": [
        "We can verify the same location in the text is now clean as follows. We won't worry about the irregular spaces since we'll later split the text into sentences and tokenize it anyway."
      ]
    },
    {
      "metadata": {
        "id": "iabELP3kPcTP",
        "colab_type": "code",
        "colab": {
          "base_uri": "https://localhost:8080/",
          "height": 34
        },
        "outputId": "a4504f90-a23c-444c-a733-391c301d4409"
      },
      "cell_type": "code",
      "source": [
        "i = input_text_noparens.find(\"Hyowon Gweon: See this?\")\n",
        "input_text_noparens[i-20:i+150]"
      ],
      "execution_count": 12,
      "outputs": [
        {
          "output_type": "execute_result",
          "data": {
            "text/plain": [
              "\"hat the baby does.\\n Hyowon Gweon: See this?  Did you see that?  Cool. See this one?  Wow.\\nLaura Schulz: Told you. \\n HG: See this one?  Hey Clara, this one's for you. You \""
            ]
          },
          "metadata": {
            "tags": []
          },
          "execution_count": 12
        }
      ]
    },
    {
      "metadata": {
        "id": "WrTe_uV5Pg9U",
        "colab_type": "text"
      },
      "cell_type": "markdown",
      "source": [
        "Now, let's attempt to remove speakers' names that occur at the beginning of a line, by deleting pieces of the form \"<up to 20 characters>:\", as shown in this example. Of course, this is an imperfect heuristic."
      ]
    },
    {
      "metadata": {
        "id": "m1rdcAfOPmZd",
        "colab_type": "code",
        "colab": {
          "base_uri": "https://localhost:8080/",
          "height": 102
        },
        "outputId": "0a507a43-76ec-43c5-c0c2-973dfcc90e66"
      },
      "cell_type": "code",
      "source": [
        "sentences_strings_ted = []\n",
        "for line in input_text_noparens.split('\\n'):\n",
        "    m = re.match(r'^(?:(?P<precolon>[^:]{,20}):)?(?P<postcolon>.*)$', line)\n",
        "    sentences_strings_ted.extend(sent for sent in m.groupdict()['postcolon'].split('.') if sent)\n",
        "\n",
        "# Uncomment if you need to save some RAM: these strings are about 50MB.\n",
        "# del input_text, input_text_noparens\n",
        "\n",
        "# Let's view the first few:\n",
        "sentences_strings_ted[:5]"
      ],
      "execution_count": 13,
      "outputs": [
        {
          "output_type": "execute_result",
          "data": {
            "text/plain": [
              "[\"Here are two reasons companies fail: they only do more of the same, or they only do what's new\",\n",
              " 'To me the real, real solution to quality growth is figuring out the balance between two activities: exploration and exploitation',\n",
              " ' Both are necessary, but it can be too much of a good thing',\n",
              " 'Consider Facit',\n",
              " \" I'm actually old enough to remember them\"]"
            ]
          },
          "metadata": {
            "tags": []
          },
          "execution_count": 13
        }
      ]
    },
    {
      "metadata": {
        "id": "iDdWYkdcPrMG",
        "colab_type": "text"
      },
      "cell_type": "markdown",
      "source": [
        "Now that we have sentences, we're ready to tokenize each of them into words. This tokenization is imperfect, of course. For instance, how many tokens is \"can't\", and where/how do we split it? We'll take the simplest naive approach of splitting on spaces. Before splitting, we remove non-alphanumeric characters, such as punctuation. You may want to consider the following question: why do we replace these characters with spaces rather than deleting them? Think of a case where this yields a different answer."
      ]
    },
    {
      "metadata": {
        "id": "Va9Mltk9PvLX",
        "colab_type": "code",
        "colab": {}
      },
      "cell_type": "code",
      "source": [
        "sentences_ted = []\n",
        "for sent_str in sentences_strings_ted:\n",
        "    tokens = re.sub(r\"[^a-z0-9]+\", \" \", sent_str.lower()).split()\n",
        "    sentences_ted.append(tokens)"
      ],
      "execution_count": 0,
      "outputs": []
    },
    {
      "metadata": {
        "id": "1TZ0ifZAP0Ld",
        "colab_type": "text"
      },
      "cell_type": "markdown",
      "source": [
        "Two sample processed sentences:"
      ]
    },
    {
      "metadata": {
        "id": "j7Rxc83KP3sr",
        "colab_type": "code",
        "colab": {
          "base_uri": "https://localhost:8080/",
          "height": 34
        },
        "outputId": "77c6ac1a-8042-4faa-d33f-88b3fa947ccc"
      },
      "cell_type": "code",
      "source": [
        "len(sentences_ted)"
      ],
      "execution_count": 15,
      "outputs": [
        {
          "output_type": "execute_result",
          "data": {
            "text/plain": [
              "266694"
            ]
          },
          "metadata": {
            "tags": []
          },
          "execution_count": 15
        }
      ]
    },
    {
      "metadata": {
        "id": "V2XbxdvGP7Js",
        "colab_type": "code",
        "colab": {
          "base_uri": "https://localhost:8080/",
          "height": 51
        },
        "outputId": "72b0ad30-0653-4294-c90c-b48a93cdeaa2"
      },
      "cell_type": "code",
      "source": [
        "print(sentences_ted[0])\n",
        "print(sentences_ted[1])"
      ],
      "execution_count": 16,
      "outputs": [
        {
          "output_type": "stream",
          "text": [
            "['here', 'are', 'two', 'reasons', 'companies', 'fail', 'they', 'only', 'do', 'more', 'of', 'the', 'same', 'or', 'they', 'only', 'do', 'what', 's', 'new']\n",
            "['to', 'me', 'the', 'real', 'real', 'solution', 'to', 'quality', 'growth', 'is', 'figuring', 'out', 'the', 'balance', 'between', 'two', 'activities', 'exploration', 'and', 'exploitation']\n"
          ],
          "name": "stdout"
        }
      ]
    },
    {
      "metadata": {
        "id": "kLPNFxC6P_rc",
        "colab_type": "text"
      },
      "cell_type": "markdown",
      "source": [
        "#### Part 2: Word Frequencies\n",
        "If you store the counts of the top 1000 words in a list called counts_ted_top1000, the code below will plot the histogram requested in the writeup."
      ]
    },
    {
      "metadata": {
        "id": "0hzXeOO-QJHk",
        "colab_type": "code",
        "colab": {}
      },
      "cell_type": "code",
      "source": [
        "import collections\n",
        "count = collections.Counter()\n",
        "for sentence in sentences_ted:\n",
        "    for word in sentence:\n",
        "        count[word] += 1\n",
        "words_top_ted = [token_count_pair[0] for token_count_pair in count.most_common(1000)]\n",
        "counts_ted_top1000 = [token_count_pair[1] for token_count_pair in count.most_common(1000)]"
      ],
      "execution_count": 0,
      "outputs": []
    },
    {
      "metadata": {
        "id": "yMi1us6oQPpi",
        "colab_type": "text"
      },
      "cell_type": "markdown",
      "source": [
        "Plot distribution of top-1000 words"
      ]
    },
    {
      "metadata": {
        "id": "mVPFr7cZXA8w",
        "colab_type": "code",
        "colab": {}
      },
      "cell_type": "code",
      "source": [
        "%matplotlib inline\n",
        "import matplotlib.pyplot as plt"
      ],
      "execution_count": 0,
      "outputs": []
    },
    {
      "metadata": {
        "id": "WwGFMExuQTtJ",
        "colab_type": "code",
        "colab": {
          "base_uri": "https://localhost:8080/",
          "height": 17
        },
        "outputId": "5b915797-e733-4832-c9c0-289082553585"
      },
      "cell_type": "code",
      "source": [
        "hist, edges = np.histogram(counts_ted_top1000, density=True, bins=100, normed=True)\n",
        "\n",
        "p = figure(tools=\"pan,wheel_zoom,reset,save\",\n",
        "           toolbar_location=\"above\",\n",
        "           title=\"Top-1000 words distribution\")\n",
        "p.quad(top=hist, bottom=0, left=edges[:-1], right=edges[1:], line_color=\"#555555\")\n",
        "show(p)"
      ],
      "execution_count": 43,
      "outputs": [
        {
          "output_type": "display_data",
          "data": {
            "text/html": [
              "\n",
              "<div class=\"bk-root\">\n",
              "    <div class=\"bk-plotdiv\" id=\"cdb535bc-5463-4a5d-9cf3-321679b23d5a\"></div>\n",
              "</div>"
            ]
          },
          "metadata": {
            "tags": []
          }
        },
        {
          "output_type": "display_data",
          "data": {
            "application/javascript": [
              "(function(root) {\n",
              "  function embed_document(root) {\n",
              "    \n",
              "  var docs_json = {\"6ebec086-270b-4427-9314-535b3154d2b4\":{\"roots\":{\"references\":[{\"attributes\":{},\"id\":\"3d6e2a2b-91f4-41d4-8075-3ab54f43aa03\",\"type\":\"BasicTicker\"},{\"attributes\":{},\"id\":\"ec2a2c40-0040-4331-807a-7bb5f839ff6e\",\"type\":\"LinearScale\"},{\"attributes\":{\"plot\":null,\"text\":\"Top-1000 words distribution\"},\"id\":\"13fe6246-b05d-4c97-8849-77ee2cb752cc\",\"type\":\"Title\"},{\"attributes\":{\"callback\":null,\"column_names\":[\"left\",\"right\",\"top\"],\"data\":{\"left\":{\"__ndarray__\":\"AAAAAABAeUB7FK5H4VqjQHsUrkfhxrFAuB6F61HguUB7FK5H4fzAQJqZmZmZCcVAuB6F61EWyUDXo3A9CiPNQHsUrkfhl9BACtejcD2e0kCamZmZmaTUQClcj8L1qtZAuB6F61Gx2EBI4XoUrrfaQNejcD0KvtxAZ2ZmZmbE3kB7FK5HYWXgQMP1KFyPaOFACtejcL1r4kBSuB6F627jQJqZmZkZcuRA4XoUrkd15UApXI/CdXjmQHE9Cteje+dAuB6F69F+6EAAAAAAAILpQEjhehQuhepAkML1KFyI60DXo3A9iovsQB+F61G4ju1AZ2ZmZuaR7kCuR+F6FJXvQHsUrkchTPBAH4XrUbjN8EDD9ShcT0/xQGdmZmbm0PFACtejcH1S8kCuR+F6FNTyQFK4HoWrVfNA9ihcj0LX80CamZmZ2Vj0QD4K16Nw2vRA4XoUrgdc9UCF61G4nt31QClcj8I1X/ZAzczMzMzg9kBxPQrXY2L3QBWuR+H64/dAuB6F65Fl+EBcj8L1KOf4QAAAAADAaPlApHA9Clfq+UBI4XoU7mv6QOxRuB6F7fpAkML1KBxv+0AzMzMzs/D7QNejcD1KcvxAexSuR+Hz/EAfhetReHX9QMP1KFwP9/1AZ2ZmZqZ4/kAK16NwPfr+QK5H4XrUe/9AUrgehWv9/0B7FK5HgT8AQc3MzMxMgABBH4XrURjBAEFxPQrX4wEBQcP1KFyvQgFBFa5H4XqDAUFnZmZmRsQBQbgehesRBQJBCtejcN1FAkFcj8L1qIYCQa5H4Xp0xwJBAAAAAEAIA0FSuB6FC0kDQaRwPQrXiQNB9ihcj6LKA0FI4XoUbgsEQZqZmZk5TARB7FG4HgWNBEE+Ctej0M0EQZDC9SicDgVB4XoUrmdPBUEzMzMzM5AFQYXrUbj+0AVB16NwPcoRBkEpXI/ClVIGQXsUrkdhkwZBzczMzCzUBkEfhetR+BQHQXE9CtfDVQdBw/UoXI+WB0EVrkfhWtcHQWdmZmYmGAhBuB6F6/FYCEEK16NwvZkIQVyPwvWI2ghBrkfhelQbCUE=\",\"dtype\":\"float64\",\"shape\":[100]},\"right\":{\"__ndarray__\":\"exSuR+Fao0B7FK5H4caxQLgehetR4LlAexSuR+H8wECamZmZmQnFQLgehetRFslA16NwPQojzUB7FK5H4ZfQQArXo3A9ntJAmpmZmZmk1EApXI/C9arWQLgehetRsdhASOF6FK632kDXo3A9Cr7cQGdmZmZmxN5AexSuR2Fl4EDD9Shcj2jhQArXo3C9a+JAUrgehetu40CamZmZGXLkQOF6FK5HdeVAKVyPwnV45kBxPQrXo3vnQLgehevRfuhAAAAAAACC6UBI4XoULoXqQJDC9ShciOtA16NwPYqL7EAfhetRuI7tQGdmZmbmke5ArkfhehSV70B7FK5HIUzwQB+F61G4zfBAw/UoXE9P8UBnZmZm5tDxQArXo3B9UvJArkfhehTU8kBSuB6Fq1XzQPYoXI9C1/NAmpmZmdlY9EA+CtejcNr0QOF6FK4HXPVAhetRuJ7d9UApXI/CNV/2QM3MzMzM4PZAcT0K12Ni90AVrkfh+uP3QLgeheuRZfhAXI/C9Sjn+EAAAAAAwGj5QKRwPQpX6vlASOF6FO5r+kDsUbgehe36QJDC9Sgcb/tAMzMzM7Pw+0DXo3A9SnL8QHsUrkfh8/xAH4XrUXh1/UDD9ShcD/f9QGdmZmameP5ACtejcD36/kCuR+F61Hv/QFK4HoVr/f9AexSuR4E/AEHNzMzMTIAAQR+F61EYwQBBcT0K1+MBAUHD9Shcr0IBQRWuR+F6gwFBZ2ZmZkbEAUG4HoXrEQUCQQrXo3DdRQJBXI/C9aiGAkGuR+F6dMcCQQAAAABACANBUrgehQtJA0GkcD0K14kDQfYoXI+iygNBSOF6FG4LBEGamZmZOUwEQexRuB4FjQRBPgrXo9DNBEGQwvUonA4FQeF6FK5nTwVBMzMzMzOQBUGF61G4/tAFQdejcD3KEQZBKVyPwpVSBkF7FK5HYZMGQc3MzMws1AZBH4XrUfgUB0FxPQrXw1UHQcP1KFyPlgdBFa5H4VrXB0FnZmZmJhgIQbgehevxWAhBCtejcL2ZCEFcj8L1iNoIQa5H4XpUGwlBAAAAACBcCUE=\",\"dtype\":\"float64\",\"shape\":[100]},\"top\":{\"__ndarray__\":\"50H1zNSBOT/ypb1tgHIBPwsriUb5Uew+zuTFiLI04j78kGUPxTHhPh40R25oQNY+zuTFiLI00j4pPQWW1y7APsTbB2FDRsg+JT0FltcuwD4tPQWW1y6wPi09BZbXLrA+JT0FltcuwD4tPQWW1y6gPiU9BZbXLrA+LT0FltcuoD4AAAAAAAAAADU9BZbXLqA+AAAAAAAAAAAAAAAAAAAAAAAAAAAAAAAAAAAAAAAAAAAAAAAAAAAAADU9BZbXLqA+AAAAAAAAAAAAAAAAAAAAAAAAAAAAAAAANT0FltcuoD4AAAAAAAAAAAAAAAAAAAAANT0FltcuoD4AAAAAAAAAACU9BZbXLqA+AAAAAAAAAAAlPQWW1y6gPkU9BZbXLqA+AAAAAAAAAAAlPQWW1y6gPgAAAAAAAAAAJT0FltcuoD4AAAAAAAAAAAAAAAAAAAAAAAAAAAAAAAAAAAAAAAAAAAAAAAAAAAAAJT0FltcuoD4AAAAAAAAAAAAAAAAAAAAAAAAAAAAAAAAAAAAAAAAAACU9BZbXLqA+AAAAAAAAAAAAAAAAAAAAAAAAAAAAAAAAAAAAAAAAAAAlPQWW1y6gPgAAAAAAAAAAAAAAAAAAAAAAAAAAAAAAAAAAAAAAAAAART0FltcuoD4AAAAAAAAAAAAAAAAAAAAAAAAAAAAAAAAAAAAAAAAAAAAAAAAAAAAAAAAAAAAAAAAAAAAAAAAAAAAAAAAAAAAAAAAAAAAAAAAAAAAAAAAAACU9BZbXLqA+AAAAAAAAAAAAAAAAAAAAAAAAAAAAAAAAAAAAAAAAAAAAAAAAAAAAAAAAAAAAAAAAAAAAAAAAAAAAAAAAAAAAAAAAAAAAAAAAAAAAAAAAAAAAAAAAAAAAAAAAAAAAAAAAAAAAAAAAAAAAAAAAAAAAAAAAAAAAAAAAAAAAAAAAAAAAAAAAAAAAAAAAAAAAAAAAAAAAAAAAAAAAAAAAAAAAAAAAAAAAAAAAAAAAAAAAAAAAAAAAAAAAAAAAAAAAAAAAAAAAAAAAAAAAAAAAAAAAAAAAAAAAAAAAJT0FltcuoD4=\",\"dtype\":\"float64\",\"shape\":[100]}},\"selected\":null,\"selection_policy\":null},\"id\":\"072e249b-4526-466e-bc0b-ca68a3ecc552\",\"type\":\"ColumnDataSource\"},{\"attributes\":{\"active_drag\":\"auto\",\"active_inspect\":\"auto\",\"active_scroll\":\"auto\",\"active_tap\":\"auto\",\"tools\":[{\"id\":\"2a9c7f13-812a-4f60-b716-6d40dc204b44\",\"type\":\"PanTool\"},{\"id\":\"ec4387ea-962b-41f4-82f4-8566fceafc65\",\"type\":\"WheelZoomTool\"},{\"id\":\"5633fefd-9ee3-40b0-b11c-729fe4ad025e\",\"type\":\"ResetTool\"},{\"id\":\"516082b6-6667-44b5-a7da-60ed498c649f\",\"type\":\"SaveTool\"}]},\"id\":\"6e0efe6f-73c1-4589-a474-5045ae9d85ce\",\"type\":\"Toolbar\"},{\"attributes\":{\"plot\":{\"id\":\"032adf54-04b5-43b9-932c-d6fb67d03078\",\"subtype\":\"Figure\",\"type\":\"Plot\"},\"ticker\":{\"id\":\"3d6e2a2b-91f4-41d4-8075-3ab54f43aa03\",\"type\":\"BasicTicker\"}},\"id\":\"bfba4082-4498-4ee7-a81c-7ed07a6b8f6c\",\"type\":\"Grid\"},{\"attributes\":{},\"id\":\"2a9c7f13-812a-4f60-b716-6d40dc204b44\",\"type\":\"PanTool\"},{\"attributes\":{\"data_source\":{\"id\":\"072e249b-4526-466e-bc0b-ca68a3ecc552\",\"type\":\"ColumnDataSource\"},\"glyph\":{\"id\":\"751e984f-39b4-4fb0-a7ad-cb9e906e3d26\",\"type\":\"Quad\"},\"hover_glyph\":null,\"muted_glyph\":null,\"nonselection_glyph\":{\"id\":\"599c429f-7475-4fd7-916f-24c59261c27c\",\"type\":\"Quad\"},\"selection_glyph\":null,\"view\":{\"id\":\"88047cf0-7e24-439d-a0a2-111e5558eb08\",\"type\":\"CDSView\"}},\"id\":\"f56ff2b7-fbf4-45b3-b369-c955c1a310c8\",\"type\":\"GlyphRenderer\"},{\"attributes\":{\"bottom\":{\"value\":0},\"fill_alpha\":{\"value\":0.1},\"fill_color\":{\"value\":\"#1f77b4\"},\"left\":{\"field\":\"left\"},\"line_alpha\":{\"value\":0.1},\"line_color\":{\"value\":\"#1f77b4\"},\"right\":{\"field\":\"right\"},\"top\":{\"field\":\"top\"}},\"id\":\"599c429f-7475-4fd7-916f-24c59261c27c\",\"type\":\"Quad\"},{\"attributes\":{},\"id\":\"ec4387ea-962b-41f4-82f4-8566fceafc65\",\"type\":\"WheelZoomTool\"},{\"attributes\":{},\"id\":\"00c5304c-5c50-4ff0-91e5-9fec2391a2f9\",\"type\":\"BasicTicker\"},{\"attributes\":{},\"id\":\"86a370a3-237a-44c6-a88f-0f801d73cf6d\",\"type\":\"BasicTickFormatter\"},{\"attributes\":{\"dimension\":1,\"plot\":{\"id\":\"032adf54-04b5-43b9-932c-d6fb67d03078\",\"subtype\":\"Figure\",\"type\":\"Plot\"},\"ticker\":{\"id\":\"00c5304c-5c50-4ff0-91e5-9fec2391a2f9\",\"type\":\"BasicTicker\"}},\"id\":\"6b846782-66d5-41ee-bfcd-64024b48205e\",\"type\":\"Grid\"},{\"attributes\":{\"formatter\":{\"id\":\"86a370a3-237a-44c6-a88f-0f801d73cf6d\",\"type\":\"BasicTickFormatter\"},\"plot\":{\"id\":\"032adf54-04b5-43b9-932c-d6fb67d03078\",\"subtype\":\"Figure\",\"type\":\"Plot\"},\"ticker\":{\"id\":\"3d6e2a2b-91f4-41d4-8075-3ab54f43aa03\",\"type\":\"BasicTicker\"}},\"id\":\"672e27fd-5d05-4610-9bba-8b19ff5957e8\",\"type\":\"LinearAxis\"},{\"attributes\":{\"source\":{\"id\":\"072e249b-4526-466e-bc0b-ca68a3ecc552\",\"type\":\"ColumnDataSource\"}},\"id\":\"88047cf0-7e24-439d-a0a2-111e5558eb08\",\"type\":\"CDSView\"},{\"attributes\":{\"callback\":null},\"id\":\"013621ef-4b5f-42ba-a19d-efc4d0a16c93\",\"type\":\"DataRange1d\"},{\"attributes\":{},\"id\":\"c778c6ff-dda9-4ad8-b0c7-4b83c42acaf2\",\"type\":\"BasicTickFormatter\"},{\"attributes\":{},\"id\":\"516082b6-6667-44b5-a7da-60ed498c649f\",\"type\":\"SaveTool\"},{\"attributes\":{},\"id\":\"082bba27-d9bd-4363-bbe7-09b5c7a243ee\",\"type\":\"LinearScale\"},{\"attributes\":{\"bottom\":{\"value\":0},\"fill_color\":{\"value\":\"#1f77b4\"},\"left\":{\"field\":\"left\"},\"line_color\":{\"value\":\"#555555\"},\"right\":{\"field\":\"right\"},\"top\":{\"field\":\"top\"}},\"id\":\"751e984f-39b4-4fb0-a7ad-cb9e906e3d26\",\"type\":\"Quad\"},{\"attributes\":{\"formatter\":{\"id\":\"c778c6ff-dda9-4ad8-b0c7-4b83c42acaf2\",\"type\":\"BasicTickFormatter\"},\"plot\":{\"id\":\"032adf54-04b5-43b9-932c-d6fb67d03078\",\"subtype\":\"Figure\",\"type\":\"Plot\"},\"ticker\":{\"id\":\"00c5304c-5c50-4ff0-91e5-9fec2391a2f9\",\"type\":\"BasicTicker\"}},\"id\":\"75c8f0ab-efde-4f48-b4a8-689e76061d04\",\"type\":\"LinearAxis\"},{\"attributes\":{\"below\":[{\"id\":\"672e27fd-5d05-4610-9bba-8b19ff5957e8\",\"type\":\"LinearAxis\"}],\"left\":[{\"id\":\"75c8f0ab-efde-4f48-b4a8-689e76061d04\",\"type\":\"LinearAxis\"}],\"renderers\":[{\"id\":\"672e27fd-5d05-4610-9bba-8b19ff5957e8\",\"type\":\"LinearAxis\"},{\"id\":\"bfba4082-4498-4ee7-a81c-7ed07a6b8f6c\",\"type\":\"Grid\"},{\"id\":\"75c8f0ab-efde-4f48-b4a8-689e76061d04\",\"type\":\"LinearAxis\"},{\"id\":\"6b846782-66d5-41ee-bfcd-64024b48205e\",\"type\":\"Grid\"},{\"id\":\"f56ff2b7-fbf4-45b3-b369-c955c1a310c8\",\"type\":\"GlyphRenderer\"}],\"title\":{\"id\":\"13fe6246-b05d-4c97-8849-77ee2cb752cc\",\"type\":\"Title\"},\"toolbar\":{\"id\":\"6e0efe6f-73c1-4589-a474-5045ae9d85ce\",\"type\":\"Toolbar\"},\"toolbar_location\":\"above\",\"x_range\":{\"id\":\"013621ef-4b5f-42ba-a19d-efc4d0a16c93\",\"type\":\"DataRange1d\"},\"x_scale\":{\"id\":\"082bba27-d9bd-4363-bbe7-09b5c7a243ee\",\"type\":\"LinearScale\"},\"y_range\":{\"id\":\"8baf370c-53b1-46e7-b8d1-b7f9bfd18507\",\"type\":\"DataRange1d\"},\"y_scale\":{\"id\":\"ec2a2c40-0040-4331-807a-7bb5f839ff6e\",\"type\":\"LinearScale\"}},\"id\":\"032adf54-04b5-43b9-932c-d6fb67d03078\",\"subtype\":\"Figure\",\"type\":\"Plot\"},{\"attributes\":{\"callback\":null},\"id\":\"8baf370c-53b1-46e7-b8d1-b7f9bfd18507\",\"type\":\"DataRange1d\"},{\"attributes\":{},\"id\":\"5633fefd-9ee3-40b0-b11c-729fe4ad025e\",\"type\":\"ResetTool\"}],\"root_ids\":[\"032adf54-04b5-43b9-932c-d6fb67d03078\"]},\"title\":\"Bokeh Application\",\"version\":\"0.12.15\"}};\n",
              "  var render_items = [{\"docid\":\"6ebec086-270b-4427-9314-535b3154d2b4\",\"elementid\":\"cdb535bc-5463-4a5d-9cf3-321679b23d5a\",\"modelid\":\"032adf54-04b5-43b9-932c-d6fb67d03078\"}];\n",
              "  root.Bokeh.embed.embed_items_notebook(docs_json, render_items);\n",
              "\n",
              "  }\n",
              "  if (root.Bokeh !== undefined) {\n",
              "    embed_document(root);\n",
              "  } else {\n",
              "    var attempts = 0;\n",
              "    var timer = setInterval(function(root) {\n",
              "      if (root.Bokeh !== undefined) {\n",
              "        embed_document(root);\n",
              "        clearInterval(timer);\n",
              "      }\n",
              "      attempts++;\n",
              "      if (attempts > 100) {\n",
              "        console.log(\"Bokeh: ERROR: Unable to run BokehJS code because BokehJS library is missing\")\n",
              "        clearInterval(timer);\n",
              "      }\n",
              "    }, 10, root)\n",
              "  }\n",
              "})(window);"
            ],
            "application/vnd.bokehjs_exec.v0+json": ""
          },
          "metadata": {
            "tags": [],
            "application/vnd.bokehjs_exec.v0+json": {
              "id": "032adf54-04b5-43b9-932c-d6fb67d03078"
            }
          }
        }
      ]
    },
    {
      "metadata": {
        "id": "5mAnZTEhQYlV",
        "colab_type": "text"
      },
      "cell_type": "markdown",
      "source": [
        "#### Part 3: Train Word2Vec"
      ]
    },
    {
      "metadata": {
        "id": "QYn7XxD2U3ZY",
        "colab_type": "code",
        "colab": {
          "base_uri": "https://localhost:8080/",
          "height": 714
        },
        "outputId": "edd0787a-0838-41ad-f90c-8c940c95363e"
      },
      "cell_type": "code",
      "source": [
        "!pip install gensim"
      ],
      "execution_count": 23,
      "outputs": [
        {
          "output_type": "stream",
          "text": [
            "Collecting gensim\n",
            "  Downloading gensim-3.4.0-cp36-cp36m-manylinux1_x86_64.whl (22.6MB)\n",
            "\u001b[K    100% |████████████████████████████████| 22.6MB 60kB/s \n",
            "\u001b[?25hRequirement already satisfied: scipy>=0.18.1 in /usr/local/lib/python3.6/dist-packages (from gensim)\n",
            "Collecting smart-open>=1.2.1 (from gensim)\n",
            "  Downloading smart_open-1.5.7.tar.gz\n",
            "Requirement already satisfied: numpy>=1.11.3 in /usr/local/lib/python3.6/dist-packages (from gensim)\n",
            "Requirement already satisfied: six>=1.5.0 in /usr/local/lib/python3.6/dist-packages (from gensim)\n",
            "Collecting boto3 (from smart-open>=1.2.1->gensim)\n",
            "  Downloading boto3-1.7.3-py2.py3-none-any.whl (128kB)\n",
            "\u001b[K    100% |████████████████████████████████| 133kB 7.7MB/s \n",
            "\u001b[?25hCollecting boto>=2.32 (from smart-open>=1.2.1->gensim)\n",
            "  Downloading boto-2.48.0-py2.py3-none-any.whl (1.4MB)\n",
            "\u001b[K    100% |████████████████████████████████| 1.4MB 919kB/s \n",
            "\u001b[?25hCollecting bz2file (from smart-open>=1.2.1->gensim)\n",
            "  Downloading bz2file-0.98.tar.gz\n",
            "Requirement already satisfied: requests in /usr/local/lib/python3.6/dist-packages (from smart-open>=1.2.1->gensim)\n",
            "Collecting botocore<1.11.0,>=1.10.3 (from boto3->smart-open>=1.2.1->gensim)\n",
            "  Downloading botocore-1.10.3-py2.py3-none-any.whl (4.2MB)\n",
            "\u001b[K    100% |████████████████████████████████| 4.2MB 319kB/s \n",
            "\u001b[?25hCollecting s3transfer<0.2.0,>=0.1.10 (from boto3->smart-open>=1.2.1->gensim)\n",
            "  Downloading s3transfer-0.1.13-py2.py3-none-any.whl (59kB)\n",
            "\u001b[K    100% |████████████████████████████████| 61kB 9.1MB/s \n",
            "\u001b[?25hCollecting jmespath<1.0.0,>=0.7.1 (from boto3->smart-open>=1.2.1->gensim)\n",
            "  Downloading jmespath-0.9.3-py2.py3-none-any.whl\n",
            "Requirement already satisfied: urllib3<1.23,>=1.21.1 in /usr/local/lib/python3.6/dist-packages (from requests->smart-open>=1.2.1->gensim)\n",
            "Requirement already satisfied: idna<2.7,>=2.5 in /usr/local/lib/python3.6/dist-packages (from requests->smart-open>=1.2.1->gensim)\n",
            "Requirement already satisfied: chardet<3.1.0,>=3.0.2 in /usr/local/lib/python3.6/dist-packages (from requests->smart-open>=1.2.1->gensim)\n",
            "Requirement already satisfied: certifi>=2017.4.17 in /usr/local/lib/python3.6/dist-packages (from requests->smart-open>=1.2.1->gensim)\n",
            "Requirement already satisfied: python-dateutil<2.7.0,>=2.1 in /usr/local/lib/python3.6/dist-packages (from botocore<1.11.0,>=1.10.3->boto3->smart-open>=1.2.1->gensim)\n",
            "Collecting docutils>=0.10 (from botocore<1.11.0,>=1.10.3->boto3->smart-open>=1.2.1->gensim)\n",
            "  Downloading docutils-0.14-py3-none-any.whl (543kB)\n",
            "\u001b[K    100% |████████████████████████████████| 552kB 2.1MB/s \n",
            "\u001b[?25hBuilding wheels for collected packages: smart-open, bz2file\n",
            "  Running setup.py bdist_wheel for smart-open ... \u001b[?25l-\b \b\\\b \bdone\n",
            "\u001b[?25h  Stored in directory: /content/.cache/pip/wheels/cf/54/36/b003d8c2d26aadffc21f0677009ed53cf9575a97fc71fbba76\n",
            "  Running setup.py bdist_wheel for bz2file ... \u001b[?25l-\b \bdone\n",
            "\u001b[?25h  Stored in directory: /content/.cache/pip/wheels/31/9c/20/996d65ca104cbca940b1b053299b68459391c01c774d073126\n",
            "Successfully built smart-open bz2file\n",
            "Installing collected packages: docutils, jmespath, botocore, s3transfer, boto3, boto, bz2file, smart-open, gensim\n",
            "Successfully installed boto-2.48.0 boto3-1.7.3 botocore-1.10.3 bz2file-0.98 docutils-0.14 gensim-3.4.0 jmespath-0.9.3 s3transfer-0.1.13 smart-open-1.5.7\n"
          ],
          "name": "stdout"
        }
      ]
    },
    {
      "metadata": {
        "id": "PmVB1Qa5QfNh",
        "colab_type": "code",
        "colab": {}
      },
      "cell_type": "code",
      "source": [
        "from gensim.models import Word2Vec"
      ],
      "execution_count": 0,
      "outputs": []
    },
    {
      "metadata": {
        "id": "VL4gBa2TQleS",
        "colab_type": "code",
        "colab": {}
      },
      "cell_type": "code",
      "source": [
        "model_ted = Word2Vec(sentences_ted, min_count=1)"
      ],
      "execution_count": 0,
      "outputs": []
    },
    {
      "metadata": {
        "id": "Q_2m7hAQQowa",
        "colab_type": "text"
      },
      "cell_type": "markdown",
      "source": [
        "#### Part 4: Ted Learnt Representations\n",
        "Finding similar words: (see gensim docs for more functionality of most_similar)"
      ]
    },
    {
      "metadata": {
        "id": "x4VOev8QQzhC",
        "colab_type": "code",
        "colab": {
          "base_uri": "https://localhost:8080/",
          "height": 221
        },
        "outputId": "6c446049-86e0-4751-f0ab-b83b908c466a"
      },
      "cell_type": "code",
      "source": [
        "model_ted.most_similar(\"man\")"
      ],
      "execution_count": 26,
      "outputs": [
        {
          "output_type": "stream",
          "text": [
            "/usr/local/lib/python3.6/dist-packages/ipykernel_launcher.py:1: DeprecationWarning: Call to deprecated `most_similar` (Method will be removed in 4.0.0, use self.wv.most_similar() instead).\n",
            "  \"\"\"Entry point for launching an IPython kernel.\n"
          ],
          "name": "stderr"
        },
        {
          "output_type": "execute_result",
          "data": {
            "text/plain": [
              "[('woman', 0.8455406427383423),\n",
              " ('guy', 0.8122212886810303),\n",
              " ('girl', 0.7617380619049072),\n",
              " ('lady', 0.7529218196868896),\n",
              " ('boy', 0.7420065402984619),\n",
              " ('soldier', 0.735586404800415),\n",
              " ('gentleman', 0.7211829423904419),\n",
              " ('friend', 0.670264720916748),\n",
              " ('kid', 0.6646609306335449),\n",
              " ('poet', 0.6606656312942505)]"
            ]
          },
          "metadata": {
            "tags": []
          },
          "execution_count": 26
        }
      ]
    },
    {
      "metadata": {
        "id": "RJGE8qw9Q0WR",
        "colab_type": "code",
        "colab": {
          "base_uri": "https://localhost:8080/",
          "height": 221
        },
        "outputId": "ba5681e3-b57f-4140-a859-bfaf2b9729f7"
      },
      "cell_type": "code",
      "source": [
        "model_ted.most_similar(\"computer\")"
      ],
      "execution_count": 27,
      "outputs": [
        {
          "output_type": "stream",
          "text": [
            "/usr/local/lib/python3.6/dist-packages/ipykernel_launcher.py:1: DeprecationWarning: Call to deprecated `most_similar` (Method will be removed in 4.0.0, use self.wv.most_similar() instead).\n",
            "  \"\"\"Entry point for launching an IPython kernel.\n"
          ],
          "name": "stderr"
        },
        {
          "output_type": "execute_result",
          "data": {
            "text/plain": [
              "[('machine', 0.7360857725143433),\n",
              " ('software', 0.7162219882011414),\n",
              " ('robot', 0.7097142338752747),\n",
              " ('3d', 0.6827031373977661),\n",
              " ('device', 0.6782822608947754),\n",
              " ('program', 0.6559253931045532),\n",
              " ('camera', 0.6505266427993774),\n",
              " ('interface', 0.6426190137863159),\n",
              " ('mechanical', 0.630643367767334),\n",
              " ('video', 0.6248986124992371)]"
            ]
          },
          "metadata": {
            "tags": []
          },
          "execution_count": 27
        }
      ]
    },
    {
      "metadata": {
        "id": "u3PtqZbRQ1U5",
        "colab_type": "code",
        "colab": {
          "base_uri": "https://localhost:8080/",
          "height": 221
        },
        "outputId": "efce98c7-1476-47f3-eb0d-f13d4722263e"
      },
      "cell_type": "code",
      "source": [
        "model_ted.most_similar(\"intelligence\")"
      ],
      "execution_count": 28,
      "outputs": [
        {
          "output_type": "stream",
          "text": [
            "/usr/local/lib/python3.6/dist-packages/ipykernel_launcher.py:1: DeprecationWarning: Call to deprecated `most_similar` (Method will be removed in 4.0.0, use self.wv.most_similar() instead).\n",
            "  \"\"\"Entry point for launching an IPython kernel.\n"
          ],
          "name": "stderr"
        },
        {
          "output_type": "execute_result",
          "data": {
            "text/plain": [
              "[('communication', 0.762283444404602),\n",
              " ('knowledge', 0.756449282169342),\n",
              " ('awareness', 0.7544309496879578),\n",
              " ('computing', 0.7539945244789124),\n",
              " ('collective', 0.7391146421432495),\n",
              " ('engineering', 0.7336736917495728),\n",
              " ('development', 0.7313259840011597),\n",
              " ('resilience', 0.7281637787818909),\n",
              " ('civilization', 0.726922333240509),\n",
              " ('medicine', 0.725447952747345)]"
            ]
          },
          "metadata": {
            "tags": []
          },
          "execution_count": 28
        }
      ]
    },
    {
      "metadata": {
        "id": "UFaLHdAuV_9z",
        "colab_type": "code",
        "colab": {
          "base_uri": "https://localhost:8080/",
          "height": 221
        },
        "outputId": "0f6c32c5-aa03-42d8-9841-1e60ecde7440"
      },
      "cell_type": "code",
      "source": [
        "model_ted.most_similar(\"deep\")"
      ],
      "execution_count": 31,
      "outputs": [
        {
          "output_type": "stream",
          "text": [
            "/usr/local/lib/python3.6/dist-packages/ipykernel_launcher.py:1: DeprecationWarning: Call to deprecated `most_similar` (Method will be removed in 4.0.0, use self.wv.most_similar() instead).\n",
            "  \"\"\"Entry point for launching an IPython kernel.\n"
          ],
          "name": "stderr"
        },
        {
          "output_type": "execute_result",
          "data": {
            "text/plain": [
              "[('dark', 0.602084755897522),\n",
              " ('liquid', 0.587346076965332),\n",
              " ('ocean', 0.5783253312110901),\n",
              " ('sea', 0.5753763318061829),\n",
              " ('outer', 0.5650707483291626),\n",
              " ('atmosphere', 0.5639786720275879),\n",
              " ('frozen', 0.5588552355766296),\n",
              " ('flowing', 0.5413405299186707),\n",
              " ('fluid', 0.5388778448104858),\n",
              " ('landscape', 0.5358415246009827)]"
            ]
          },
          "metadata": {
            "tags": []
          },
          "execution_count": 31
        }
      ]
    },
    {
      "metadata": {
        "id": "dFn5XLzNWJID",
        "colab_type": "code",
        "colab": {
          "base_uri": "https://localhost:8080/",
          "height": 221
        },
        "outputId": "d56976de-1a4c-4165-a52b-beb8a7c2ccd6"
      },
      "cell_type": "code",
      "source": [
        "model_ted.most_similar(\"learning\")"
      ],
      "execution_count": 32,
      "outputs": [
        {
          "output_type": "stream",
          "text": [
            "/usr/local/lib/python3.6/dist-packages/ipykernel_launcher.py:1: DeprecationWarning: Call to deprecated `most_similar` (Method will be removed in 4.0.0, use self.wv.most_similar() instead).\n",
            "  \"\"\"Entry point for launching an IPython kernel.\n"
          ],
          "name": "stderr"
        },
        {
          "output_type": "execute_result",
          "data": {
            "text/plain": [
              "[('designing', 0.6522548794746399),\n",
              " ('understanding', 0.6049444079399109),\n",
              " ('teaching', 0.5891402959823608),\n",
              " ('knowledge', 0.586750328540802),\n",
              " ('discovering', 0.5859370827674866),\n",
              " ('sharing', 0.5825132131576538),\n",
              " ('programming', 0.5810202360153198),\n",
              " ('thinking', 0.575718879699707),\n",
              " ('learn', 0.5746056437492371),\n",
              " ('engaging', 0.5682476162910461)]"
            ]
          },
          "metadata": {
            "tags": []
          },
          "execution_count": 32
        }
      ]
    },
    {
      "metadata": {
        "id": "3IuLx5jSQ_-v",
        "colab_type": "text"
      },
      "cell_type": "markdown",
      "source": [
        "##### t-SNE visualization\n",
        "To use the t-SNE code below, first put a list of the top 1000 words (as strings) into a variable words_top_ted. The following code gets the corresponding vectors from the model, assuming it's called model_ted:"
      ]
    },
    {
      "metadata": {
        "id": "4JOIuIRQRFXw",
        "colab_type": "code",
        "colab": {
          "base_uri": "https://localhost:8080/",
          "height": 51
        },
        "outputId": "5c46b4a4-1d7d-47cc-c08f-891b70dc70d9"
      },
      "cell_type": "code",
      "source": [
        "# This assumes words_top_ted is a list of strings, the top 1000 words\n",
        "words_top_vec_ted = model_ted[words_top_ted]"
      ],
      "execution_count": 33,
      "outputs": [
        {
          "output_type": "stream",
          "text": [
            "/usr/local/lib/python3.6/dist-packages/ipykernel_launcher.py:1: DeprecationWarning: Call to deprecated `__getitem__` (Method will be removed in 4.0.0, use self.wv.__getitem__() instead).\n",
            "  \"\"\"Entry point for launching an IPython kernel.\n"
          ],
          "name": "stderr"
        }
      ]
    },
    {
      "metadata": {
        "id": "8EMUtQsZRJDv",
        "colab_type": "code",
        "colab": {}
      },
      "cell_type": "code",
      "source": [
        "from sklearn.manifold import TSNE\n",
        "tsne = TSNE(n_components=2, random_state=0)\n",
        "words_top_ted_tsne = tsne.fit_transform(words_top_vec_ted)"
      ],
      "execution_count": 0,
      "outputs": []
    },
    {
      "metadata": {
        "id": "Nj4GxXjrRJl_",
        "colab_type": "code",
        "colab": {
          "base_uri": "https://localhost:8080/",
          "height": 17
        },
        "outputId": "bcdb5ee5-1036-4cd6-a476-00ca9d4ff358"
      },
      "cell_type": "code",
      "source": [
        "p = figure(tools=\"pan,wheel_zoom,reset,save\",\n",
        "           toolbar_location=\"above\",\n",
        "           title=\"word2vec T-SNE for most common words\")\n",
        "\n",
        "source = ColumnDataSource(data=dict(x1=words_top_ted_tsne[:,0],\n",
        "                                    x2=words_top_ted_tsne[:,1],\n",
        "                                    names=words_top_ted))\n",
        "\n",
        "p.scatter(x=\"x1\", y=\"x2\", size=8, source=source)\n",
        "\n",
        "labels = LabelSet(x=\"x1\", y=\"x2\", text=\"names\", y_offset=6,\n",
        "                  text_font_size=\"8pt\", text_color=\"#555555\",\n",
        "                  source=source, text_align='center')\n",
        "p.add_layout(labels)\n",
        "\n",
        "show(p)"
      ],
      "execution_count": 35,
      "outputs": [
        {
          "output_type": "display_data",
          "data": {
            "text/html": [
              "\n",
              "<div class=\"bk-root\">\n",
              "    <div class=\"bk-plotdiv\" id=\"bd85c31d-c3e5-434d-b617-b0fd2b1fd649\"></div>\n",
              "</div>"
            ]
          },
          "metadata": {
            "tags": []
          }
        },
        {
          "output_type": "display_data",
          "data": {
            "application/javascript": [
              "(function(root) {\n",
              "  function embed_document(root) {\n",
              "    \n",
              "  var docs_json = {\"49d3e432-848d-47d1-99d5-e3da0a7b8ca8\":{\"roots\":{\"references\":[{\"attributes\":{\"fill_alpha\":{\"value\":0.1},\"fill_color\":{\"value\":\"#1f77b4\"},\"line_alpha\":{\"value\":0.1},\"line_color\":{\"value\":\"#1f77b4\"},\"size\":{\"units\":\"screen\",\"value\":8},\"x\":{\"field\":\"x1\"},\"y\":{\"field\":\"x2\"}},\"id\":\"c81c7c6d-b22a-427f-b8af-1ffe0537ebb9\",\"type\":\"Circle\"},{\"attributes\":{},\"id\":\"10558933-1d10-46ea-b7c2-81a31724deab\",\"type\":\"BasicTickFormatter\"},{\"attributes\":{\"source\":{\"id\":\"c16a063d-ae52-4d1f-8921-0579d46fccb4\",\"type\":\"ColumnDataSource\"}},\"id\":\"d4fb1d48-eb4f-4ead-8488-28581bd3b477\",\"type\":\"CDSView\"},{\"attributes\":{\"below\":[{\"id\":\"f8a4acaf-3113-4961-a5dc-f62dfe35b3a9\",\"type\":\"LinearAxis\"}],\"left\":[{\"id\":\"e24e4340-ddc3-4862-9c15-abf607cfa096\",\"type\":\"LinearAxis\"}],\"renderers\":[{\"id\":\"f8a4acaf-3113-4961-a5dc-f62dfe35b3a9\",\"type\":\"LinearAxis\"},{\"id\":\"db1379d2-a664-4e3b-bbc0-fe739e446263\",\"type\":\"Grid\"},{\"id\":\"e24e4340-ddc3-4862-9c15-abf607cfa096\",\"type\":\"LinearAxis\"},{\"id\":\"e95b08af-b16e-4fbc-92bf-086c9b91845a\",\"type\":\"Grid\"},{\"id\":\"3ec4449e-9056-4fc3-82e6-4bdc519d0230\",\"type\":\"GlyphRenderer\"},{\"id\":\"20ecece2-3eb2-43af-a7a9-7d9baa56c61d\",\"type\":\"LabelSet\"}],\"title\":{\"id\":\"978e4541-7ae8-42b3-8328-5edc82ca8972\",\"type\":\"Title\"},\"toolbar\":{\"id\":\"f0cbd194-0398-4874-a01e-6c936aacb070\",\"type\":\"Toolbar\"},\"toolbar_location\":\"above\",\"x_range\":{\"id\":\"91e400cb-3ea8-41e5-a90e-2aeea7321c69\",\"type\":\"DataRange1d\"},\"x_scale\":{\"id\":\"72a5836f-21a7-47fc-8421-0b6bdf21176e\",\"type\":\"LinearScale\"},\"y_range\":{\"id\":\"10ef1c05-74b9-4aa6-8238-622374081698\",\"type\":\"DataRange1d\"},\"y_scale\":{\"id\":\"5869ff52-faec-42ac-85f5-b95294822415\",\"type\":\"LinearScale\"}},\"id\":\"41ebbd6e-8f30-42c1-a3d5-2cd1258e865d\",\"subtype\":\"Figure\",\"type\":\"Plot\"},{\"attributes\":{\"plot\":null,\"text\":\"word2vec T-SNE for most common words\"},\"id\":\"978e4541-7ae8-42b3-8328-5edc82ca8972\",\"type\":\"Title\"},{\"attributes\":{\"formatter\":{\"id\":\"125f84fd-50ac-4a93-87b7-091abe3d1299\",\"type\":\"BasicTickFormatter\"},\"plot\":{\"id\":\"41ebbd6e-8f30-42c1-a3d5-2cd1258e865d\",\"subtype\":\"Figure\",\"type\":\"Plot\"},\"ticker\":{\"id\":\"0413647c-e574-4131-bfee-30bdd40fbc92\",\"type\":\"BasicTicker\"}},\"id\":\"e24e4340-ddc3-4862-9c15-abf607cfa096\",\"type\":\"LinearAxis\"},{\"attributes\":{\"callback\":null},\"id\":\"91e400cb-3ea8-41e5-a90e-2aeea7321c69\",\"type\":\"DataRange1d\"},{\"attributes\":{},\"id\":\"0413647c-e574-4131-bfee-30bdd40fbc92\",\"type\":\"BasicTicker\"},{\"attributes\":{},\"id\":\"20ed7fd1-c581-474b-88b7-0f706b3396e4\",\"type\":\"BasicTicker\"},{\"attributes\":{\"plot\":{\"id\":\"41ebbd6e-8f30-42c1-a3d5-2cd1258e865d\",\"subtype\":\"Figure\",\"type\":\"Plot\"},\"ticker\":{\"id\":\"20ed7fd1-c581-474b-88b7-0f706b3396e4\",\"type\":\"BasicTicker\"}},\"id\":\"db1379d2-a664-4e3b-bbc0-fe739e446263\",\"type\":\"Grid\"},{\"attributes\":{\"active_drag\":\"auto\",\"active_inspect\":\"auto\",\"active_scroll\":\"auto\",\"active_tap\":\"auto\",\"tools\":[{\"id\":\"c764fa21-64ba-4afb-bfbf-ed4f3425ceb7\",\"type\":\"PanTool\"},{\"id\":\"2c5df5ff-702b-4881-b1be-0f4ef504f9f1\",\"type\":\"WheelZoomTool\"},{\"id\":\"a0383280-3fc7-4f24-b7f2-42ab195b832d\",\"type\":\"ResetTool\"},{\"id\":\"e3eac24c-2d6a-4b3a-82a7-1bc6cd367f51\",\"type\":\"SaveTool\"}]},\"id\":\"f0cbd194-0398-4874-a01e-6c936aacb070\",\"type\":\"Toolbar\"},{\"attributes\":{\"formatter\":{\"id\":\"10558933-1d10-46ea-b7c2-81a31724deab\",\"type\":\"BasicTickFormatter\"},\"plot\":{\"id\":\"41ebbd6e-8f30-42c1-a3d5-2cd1258e865d\",\"subtype\":\"Figure\",\"type\":\"Plot\"},\"ticker\":{\"id\":\"20ed7fd1-c581-474b-88b7-0f706b3396e4\",\"type\":\"BasicTicker\"}},\"id\":\"f8a4acaf-3113-4961-a5dc-f62dfe35b3a9\",\"type\":\"LinearAxis\"},{\"attributes\":{\"dimension\":1,\"plot\":{\"id\":\"41ebbd6e-8f30-42c1-a3d5-2cd1258e865d\",\"subtype\":\"Figure\",\"type\":\"Plot\"},\"ticker\":{\"id\":\"0413647c-e574-4131-bfee-30bdd40fbc92\",\"type\":\"BasicTicker\"}},\"id\":\"e95b08af-b16e-4fbc-92bf-086c9b91845a\",\"type\":\"Grid\"},{\"attributes\":{\"fill_color\":{\"value\":\"#1f77b4\"},\"line_color\":{\"value\":\"#1f77b4\"},\"size\":{\"units\":\"screen\",\"value\":8},\"x\":{\"field\":\"x1\"},\"y\":{\"field\":\"x2\"}},\"id\":\"cad19460-1b00-4aba-ad92-6aa8c460552f\",\"type\":\"Circle\"},{\"attributes\":{\"plot\":{\"id\":\"41ebbd6e-8f30-42c1-a3d5-2cd1258e865d\",\"subtype\":\"Figure\",\"type\":\"Plot\"},\"source\":{\"id\":\"c16a063d-ae52-4d1f-8921-0579d46fccb4\",\"type\":\"ColumnDataSource\"},\"text\":{\"field\":\"names\"},\"text_align\":\"center\",\"text_color\":{\"value\":\"#555555\"},\"text_font_size\":{\"value\":\"8pt\"},\"x\":{\"field\":\"x1\"},\"y\":{\"field\":\"x2\"},\"y_offset\":{\"value\":6}},\"id\":\"20ecece2-3eb2-43af-a7a9-7d9baa56c61d\",\"type\":\"LabelSet\"},{\"attributes\":{},\"id\":\"c764fa21-64ba-4afb-bfbf-ed4f3425ceb7\",\"type\":\"PanTool\"},{\"attributes\":{},\"id\":\"125f84fd-50ac-4a93-87b7-091abe3d1299\",\"type\":\"BasicTickFormatter\"},{\"attributes\":{\"callback\":null},\"id\":\"10ef1c05-74b9-4aa6-8238-622374081698\",\"type\":\"DataRange1d\"},{\"attributes\":{},\"id\":\"72a5836f-21a7-47fc-8421-0b6bdf21176e\",\"type\":\"LinearScale\"},{\"attributes\":{},\"id\":\"2c5df5ff-702b-4881-b1be-0f4ef504f9f1\",\"type\":\"WheelZoomTool\"},{\"attributes\":{},\"id\":\"a0383280-3fc7-4f24-b7f2-42ab195b832d\",\"type\":\"ResetTool\"},{\"attributes\":{\"callback\":null,\"column_names\":[\"x1\",\"x2\",\"names\"],\"data\":{\"names\":[\"the\",\"and\",\"to\",\"of\",\"a\",\"that\",\"i\",\"in\",\"it\",\"you\",\"we\",\"is\",\"s\",\"this\",\"so\",\"they\",\"was\",\"for\",\"are\",\"have\",\"but\",\"what\",\"on\",\"with\",\"can\",\"t\",\"about\",\"there\",\"be\",\"as\",\"at\",\"all\",\"not\",\"do\",\"my\",\"one\",\"re\",\"people\",\"like\",\"if\",\"from\",\"now\",\"our\",\"he\",\"an\",\"just\",\"these\",\"or\",\"when\",\"because\",\"very\",\"me\",\"out\",\"by\",\"them\",\"how\",\"know\",\"up\",\"going\",\"had\",\"more\",\"think\",\"who\",\"were\",\"see\",\"your\",\"their\",\"which\",\"would\",\"here\",\"really\",\"get\",\"ve\",\"then\",\"m\",\"world\",\"us\",\"time\",\"some\",\"has\",\"don\",\"actually\",\"into\",\"way\",\"where\",\"will\",\"years\",\"things\",\"other\",\"no\",\"could\",\"go\",\"well\",\"want\",\"been\",\"make\",\"right\",\"she\",\"said\",\"something\",\"those\",\"first\",\"two\",\"than\",\"much\",\"also\",\"look\",\"new\",\"thing\",\"little\",\"got\",\"back\",\"over\",\"most\",\"say\",\"even\",\"his\",\"life\",\"only\",\"work\",\"many\",\"take\",\"need\",\"did\",\"lot\",\"kind\",\"why\",\"good\",\"around\",\"every\",\"different\",\"down\",\"ll\",\"let\",\"her\",\"through\",\"same\",\"being\",\"come\",\"d\",\"day\",\"year\",\"three\",\"use\",\"doing\",\"put\",\"called\",\"any\",\"today\",\"percent\",\"made\",\"after\",\"thank\",\"tell\",\"great\",\"human\",\"find\",\"didn\",\"fact\",\"talk\",\"change\",\"started\",\"another\",\"idea\",\"big\",\"last\",\"own\",\"before\",\"its\",\"never\",\"should\",\"better\",\"give\",\"thought\",\"went\",\"might\",\"important\",\"000\",\"again\",\"able\",\"together\",\"still\",\"problem\",\"off\",\"next\",\"part\",\"course\",\"system\",\"him\",\"does\",\"each\",\"start\",\"show\",\"long\",\"ago\",\"story\",\"came\",\"brain\",\"few\",\"bit\",\"between\",\"used\",\"place\",\"technology\",\"women\",\"too\",\"old\",\"mean\",\"data\",\"water\",\"looking\",\"question\",\"maybe\",\"found\",\"love\",\"doesn\",\"end\",\"example\",\"10\",\"done\",\"point\",\"four\",\"real\",\"wanted\",\"ever\",\"school\",\"understand\",\"sort\",\"live\",\"call\",\"whole\",\"children\",\"always\",\"trying\",\"may\",\"person\",\"away\",\"believe\",\"feel\",\"try\",\"million\",\"working\",\"help\",\"everything\",\"five\",\"country\",\"thinking\",\"second\",\"using\",\"information\",\"money\",\"means\",\"power\",\"took\",\"times\",\"high\",\"space\",\"number\",\"kids\",\"home\",\"become\",\"create\",\"small\",\"design\",\"making\",\"best\",\"left\",\"getting\",\"future\",\"enough\",\"man\",\"quite\",\"city\",\"without\",\"sense\",\"happened\",\"comes\",\"social\",\"probably\",\"less\",\"light\",\"talking\",\"energy\",\"am\",\"building\",\"science\",\"food\",\"body\",\"told\",\"interesting\",\"ask\",\"half\",\"pretty\",\"hard\",\"play\",\"anything\",\"lives\",\"countries\",\"coming\",\"such\",\"family\",\"stuff\",\"dollars\",\"earth\",\"moment\",\"20\",\"imagine\",\"across\",\"side\",\"while\",\"saw\",\"happen\",\"once\",\"okay\",\"build\",\"having\",\"men\",\"later\",\"experience\",\"makes\",\"asked\",\"living\",\"seen\",\"says\",\"room\",\"hand\",\"simple\",\"health\",\"ways\",\"else\",\"case\",\"yet\",\"almost\",\"young\",\"days\",\"nothing\",\"care\",\"bad\",\"happens\",\"goes\",\"move\",\"states\",\"reason\",\"computer\",\"open\",\"learn\",\"africa\",\"process\",\"inside\",\"someone\",\"six\",\"far\",\"mind\",\"project\",\"remember\",\"single\",\"picture\",\"both\",\"whether\",\"problems\",\"saying\",\"community\",\"basically\",\"already\",\"within\",\"looked\",\"myself\",\"billion\",\"often\",\"possible\",\"business\",\"planet\",\"global\",\"everybody\",\"top\",\"sure\",\"public\",\"set\",\"wrong\",\"car\",\"book\",\"keep\",\"yes\",\"answer\",\"oh\",\"hope\",\"sometimes\",\"true\",\"history\",\"war\",\"guy\",\"child\",\"instead\",\"months\",\"ideas\",\"looks\",\"matter\",\"government\",\"amazing\",\"united\",\"since\",\"bring\",\"age\",\"cells\",\"job\",\"heard\",\"until\",\"face\",\"wasn\",\"100\",\"read\",\"control\",\"isn\",\"research\",\"30\",\"words\",\"u\",\"group\",\"under\",\"self\",\"somebody\",\"built\",\"state\",\"woman\",\"turn\",\"friends\",\"beautiful\",\"line\",\"knew\",\"couple\",\"order\",\"form\",\"yeah\",\"internet\",\"middle\",\"music\",\"piece\",\"nature\",\"head\",\"though\",\"stop\",\"everyone\",\"50\",\"places\",\"video\",\"learned\",\"language\",\"run\",\"night\",\"decided\",\"study\",\"word\",\"cancer\",\"taking\",\"works\",\"became\",\"exactly\",\"species\",\"society\",\"completely\",\"education\",\"against\",\"stories\",\"large\",\"share\",\"level\",\"heart\",\"america\",\"model\",\"questions\",\"gets\",\"mother\",\"god\",\"company\",\"turns\",\"ourselves\",\"happening\",\"hear\",\"art\",\"themselves\",\"must\",\"itself\",\"rather\",\"kinds\",\"students\",\"name\",\"hours\",\"disease\",\"front\",\"house\",\"huge\",\"couldn\",\"created\",\"universe\",\"ok\",\"animals\",\"american\",\"environment\",\"worked\",\"minutes\",\"ones\",\"black\",\"perhaps\",\"1\",\"past\",\"third\",\"along\",\"others\",\"finally\",\"sound\",\"early\",\"game\",\"thousands\",\"century\",\"based\",\"least\",\"per\",\"ted\",\"lots\",\"figure\",\"free\",\"guys\",\"particular\",\"happy\",\"news\",\"learning\",\"entire\",\"won\",\"gave\",\"machine\",\"india\",\"during\",\"systems\",\"air\",\"difference\",\"outside\",\"natural\",\"taken\",\"seven\",\"given\",\"changed\",\"leave\",\"cell\",\"15\",\"close\",\"behind\",\"cities\",\"full\",\"scale\",\"difficult\",\"china\",\"takes\",\"companies\",\"yourself\",\"area\",\"reality\",\"seeing\",\"easy\",\"turned\",\"cost\",\"eyes\",\"team\",\"moving\",\"population\",\"culture\",\"york\",\"hands\",\"whatever\",\"began\",\"needs\",\"terms\",\"image\",\"simply\",\"needed\",\"beginning\",\"father\",\"local\",\"realized\",\"media\",\"death\",\"parents\",\"view\",\"walk\",\"white\",\"market\",\"parts\",\"ocean\",\"economic\",\"eight\",\"powerful\",\"known\",\"week\",\"size\",\"felt\",\"humans\",\"certain\",\"spend\",\"longer\",\"phone\",\"wonderful\",\"cannot\",\"grow\",\"common\",\"center\",\"tried\",\"fish\",\"land\",\"oil\",\"political\",\"interested\",\"deal\",\"red\",\"gone\",\"amount\",\"weeks\",\"spent\",\"opportunity\",\"paper\",\"lost\",\"national\",\"quickly\",\"blue\",\"step\",\"poor\",\"green\",\"buy\",\"growth\",\"wouldn\",\"either\",\"patients\",\"sitting\",\"ability\",\"changes\",\"write\",\"challenge\",\"south\",\"low\",\"growing\",\"friend\",\"field\",\"shows\",\"2\",\"born\",\"rest\",\"climate\",\"40\",\"test\",\"street\",\"surface\",\"incredible\",\"average\",\"physical\",\"morning\",\"scientists\",\"program\",\"pay\",\"value\",\"feeling\",\"hundreds\",\"girl\",\"met\",\"behavior\",\"economy\",\"dna\",\"complex\",\"access\",\"risk\",\"animal\",\"structure\",\"feet\",\"attention\",\"areas\",\"anyone\",\"deep\",\"watch\",\"short\",\"absolutely\",\"speak\",\"brought\",\"die\",\"bottom\",\"numbers\",\"audience\",\"stage\",\"realize\",\"law\",\"images\",\"wrote\",\"understanding\",\"knowledge\",\"literally\",\"books\",\"movement\",\"ground\",\"giving\",\"eat\",\"force\",\"seems\",\"alone\",\"telling\",\"starting\",\"hold\",\"nice\",\"forward\",\"sea\",\"developed\",\"individual\",\"kid\",\"millions\",\"support\",\"miles\",\"tools\",\"running\",\"online\",\"result\",\"act\",\"medical\",\"technologies\",\"north\",\"lab\",\"development\",\"blood\",\"fear\",\"nobody\",\"map\",\"personal\",\"issue\",\"voice\",\"material\",\"key\",\"12\",\"recently\",\"theory\",\"cut\",\"cars\",\"sun\",\"fast\",\"changing\",\"playing\",\"clear\",\"especially\",\"soon\",\"girls\",\"patient\",\"choice\",\"fly\",\"creating\",\"normal\",\"discovered\",\"europe\",\"talked\",\"relationship\",\"gives\",\"generation\",\"dark\",\"type\",\"showed\",\"chance\",\"seem\",\"industry\",\"asking\",\"rate\",\"fun\",\"issues\",\"color\",\"designed\",\"hour\",\"university\",\"innovation\",\"several\",\"class\",\"computers\",\"english\",\"tiny\",\"allow\",\"save\",\"focus\",\"digital\",\"solve\",\"developing\",\"network\",\"film\",\"special\",\"wall\",\"situation\",\"baby\",\"solution\",\"reasons\",\"box\",\"knows\",\"meet\",\"dead\",\"stand\",\"begin\",\"haven\",\"impact\",\"anybody\",\"term\",\"beyond\",\"pictures\",\"please\",\"ice\",\"produce\",\"shape\",\"non\",\"resources\",\"robot\",\"cool\",\"groups\",\"likely\",\"stay\",\"available\",\"truth\",\"rights\",\"major\",\"cause\",\"evidence\",\"obviously\",\"writing\",\"experiment\",\"modern\",\"drug\",\"becomes\",\"incredibly\",\"aren\",\"bigger\",\"guess\",\"nine\",\"product\",\"drugs\",\"lived\",\"involved\",\"perfect\",\"google\",\"month\",\"effect\",\"similar\",\"putting\",\"eye\",\"pick\",\"message\",\"quality\",\"violence\",\"web\",\"evolution\",\"security\",\"office\",\"basic\",\"solar\",\"indeed\",\"general\",\"towards\",\"present\",\"drive\",\"send\",\"listen\",\"worth\",\"revolution\",\"explain\",\"hundred\",\"certainly\",\"died\",\"ready\",\"teach\",\"journey\",\"25\",\"hit\",\"walking\",\"led\",\"approach\",\"international\",\"200\",\"scientific\",\"games\",\"60\",\"potential\",\"crazy\",\"communities\",\"chinese\",\"device\",\"source\",\"camera\",\"rules\",\"sex\",\"carbon\",\"sounds\",\"boy\",\"reach\",\"starts\",\"examples\",\"west\",\"3\",\"success\",\"measure\",\"particularly\",\"software\",\"totally\",\"suddenly\",\"action\",\"college\",\"higher\",\"code\",\"eventually\",\"democracy\",\"among\",\"minute\",\"sit\",\"largest\",\"showing\",\"hospital\",\"notice\",\"period\",\"mass\",\"develop\",\"dream\",\"onto\",\"plants\",\"break\",\"add\",\"memory\",\"everywhere\",\"favorite\",\"11\",\"zero\",\"speed\",\"schools\",\"moved\",\"response\",\"wants\",\"extremely\",\"movie\",\"individuals\",\"table\",\"wait\",\"medicine\",\"follow\",\"anyway\",\"trust\",\"plant\",\"biggest\",\"watching\",\"organization\",\"creative\",\"road\",\"choose\",\"worse\",\"lead\",\"results\",\"500\",\"exciting\",\"grew\",\"materials\",\"jobs\",\"plan\",\"east\",\"poverty\",\"positive\",\"safe\",\"strong\",\"fall\",\"essentially\",\"object\",\"door\",\"son\",\"vision\",\"further\",\"happiness\",\"continue\",\"student\",\"doctor\",\"including\",\"named\",\"role\",\"objects\",\"extraordinary\",\"standing\",\"skin\",\"leaders\",\"usually\",\"african\",\"conversation\",\"projects\",\"allowed\",\"models\",\"supposed\",\"faster\",\"interest\",\"families\",\"police\",\"fight\",\"tree\",\"connected\",\"screen\",\"5\",\"cases\",\"goal\",\"somewhere\",\"finding\",\"buildings\",\"shown\"],\"x1\":{\"__ndarray__\":\"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\",\"dtype\":\"float32\",\"shape\":[1000]},\"x2\":{\"__ndarray__\":\"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\",\"dtype\":\"float32\",\"shape\":[1000]}},\"selected\":null,\"selection_policy\":null},\"id\":\"c16a063d-ae52-4d1f-8921-0579d46fccb4\",\"type\":\"ColumnDataSource\"},{\"attributes\":{},\"id\":\"5869ff52-faec-42ac-85f5-b95294822415\",\"type\":\"LinearScale\"},{\"attributes\":{},\"id\":\"e3eac24c-2d6a-4b3a-82a7-1bc6cd367f51\",\"type\":\"SaveTool\"},{\"attributes\":{\"data_source\":{\"id\":\"c16a063d-ae52-4d1f-8921-0579d46fccb4\",\"type\":\"ColumnDataSource\"},\"glyph\":{\"id\":\"cad19460-1b00-4aba-ad92-6aa8c460552f\",\"type\":\"Circle\"},\"hover_glyph\":null,\"muted_glyph\":null,\"nonselection_glyph\":{\"id\":\"c81c7c6d-b22a-427f-b8af-1ffe0537ebb9\",\"type\":\"Circle\"},\"selection_glyph\":null,\"view\":{\"id\":\"d4fb1d48-eb4f-4ead-8488-28581bd3b477\",\"type\":\"CDSView\"}},\"id\":\"3ec4449e-9056-4fc3-82e6-4bdc519d0230\",\"type\":\"GlyphRenderer\"}],\"root_ids\":[\"41ebbd6e-8f30-42c1-a3d5-2cd1258e865d\"]},\"title\":\"Bokeh Application\",\"version\":\"0.12.15\"}};\n",
              "  var render_items = [{\"docid\":\"49d3e432-848d-47d1-99d5-e3da0a7b8ca8\",\"elementid\":\"bd85c31d-c3e5-434d-b617-b0fd2b1fd649\",\"modelid\":\"41ebbd6e-8f30-42c1-a3d5-2cd1258e865d\"}];\n",
              "  root.Bokeh.embed.embed_items_notebook(docs_json, render_items);\n",
              "\n",
              "  }\n",
              "  if (root.Bokeh !== undefined) {\n",
              "    embed_document(root);\n",
              "  } else {\n",
              "    var attempts = 0;\n",
              "    var timer = setInterval(function(root) {\n",
              "      if (root.Bokeh !== undefined) {\n",
              "        embed_document(root);\n",
              "        clearInterval(timer);\n",
              "      }\n",
              "      attempts++;\n",
              "      if (attempts > 100) {\n",
              "        console.log(\"Bokeh: ERROR: Unable to run BokehJS code because BokehJS library is missing\")\n",
              "        clearInterval(timer);\n",
              "      }\n",
              "    }, 10, root)\n",
              "  }\n",
              "})(window);"
            ],
            "application/vnd.bokehjs_exec.v0+json": ""
          },
          "metadata": {
            "tags": [],
            "application/vnd.bokehjs_exec.v0+json": {
              "id": "41ebbd6e-8f30-42c1-a3d5-2cd1258e865d"
            }
          }
        }
      ]
    },
    {
      "metadata": {
        "id": "qX6hFo9BRW3m",
        "colab_type": "text"
      },
      "cell_type": "markdown",
      "source": [
        "#### Part 5: Wiki Learnt Representations\n",
        "Download dataset"
      ]
    },
    {
      "metadata": {
        "id": "HwujOvJrRbOV",
        "colab_type": "code",
        "colab": {}
      },
      "cell_type": "code",
      "source": [
        "if not os.path.isfile('wikitext-103-raw-v1.zip'):\n",
        "    urllib.request.urlretrieve(\"https://s3.amazonaws.com/research.metamind.io/wikitext/wikitext-103-raw-v1.zip\", filename=\"wikitext-103-raw-v1.zip\")"
      ],
      "execution_count": 0,
      "outputs": []
    },
    {
      "metadata": {
        "id": "tc3PlQhxRcD-",
        "colab_type": "code",
        "colab": {}
      },
      "cell_type": "code",
      "source": [
        "with zipfile.ZipFile('wikitext-103-raw-v1.zip', 'r') as z:\n",
        "    input_text = str(z.open('wikitext-103-raw/wiki.train.raw', 'r').read(), encoding='utf-8') # Thanks Robert Bastian"
      ],
      "execution_count": 0,
      "outputs": []
    },
    {
      "metadata": {
        "id": "YZVbAwkNRkv2",
        "colab_type": "text"
      },
      "cell_type": "markdown",
      "source": [
        "Preprocess sentences (note that it's important to remove small sentences for performance)"
      ]
    },
    {
      "metadata": {
        "id": "B05CE824Rous",
        "colab_type": "code",
        "colab": {}
      },
      "cell_type": "code",
      "source": [
        "sentences_wiki = []\n",
        "for line in input_text.split('\\n'):\n",
        "    s = [x for x in line.split('.') if x and len(x.split()) >= 5]\n",
        "    sentences_wiki.extend(s)\n",
        "    \n",
        "for s_i in range(len(sentences_wiki)):\n",
        "    sentences_wiki[s_i] = re.sub(\"[^a-z]\", \" \", sentences_wiki[s_i].lower())\n",
        "    sentences_wiki[s_i] = re.sub(r'\\([^)]*\\)', '', sentences_wiki[s_i])\n",
        "del input_text"
      ],
      "execution_count": 0,
      "outputs": []
    },
    {
      "metadata": {
        "id": "2-r102npRpPm",
        "colab_type": "code",
        "colab": {
          "base_uri": "https://localhost:8080/",
          "height": 51
        },
        "outputId": "ecce3824-21ce-4103-fb8b-6ffd74e845b5"
      },
      "cell_type": "code",
      "source": [
        "# sample 1/5 of the data\n",
        "shuffle(sentences_wiki)\n",
        "print(len(sentences_wiki))\n",
        "sentences_wiki = sentences_wiki[:int(len(sentences_wiki)/5)]\n",
        "print(len(sentences_wiki))"
      ],
      "execution_count": 40,
      "outputs": [
        {
          "output_type": "stream",
          "text": [
            "4267112\n",
            "853422\n"
          ],
          "name": "stdout"
        }
      ]
    },
    {
      "metadata": {
        "id": "itROgUnERxJ9",
        "colab_type": "text"
      },
      "cell_type": "markdown",
      "source": [
        "Now, repeat all the same steps that you performed above. You should be able to reuse essentially all the code."
      ]
    },
    {
      "metadata": {
        "id": "3KBWH_u_R2CM",
        "colab_type": "code",
        "colab": {}
      },
      "cell_type": "code",
      "source": [
        "model_wiki = Word2Vec(sentences_wiki, min_count=1)"
      ],
      "execution_count": 0,
      "outputs": []
    },
    {
      "metadata": {
        "id": "zF0Dut9mZQtv",
        "colab_type": "code",
        "colab": {}
      },
      "cell_type": "code",
      "source": [
        "count_wiki = collections.Counter()\n",
        "for sentence in sentences_wiki:\n",
        "    for word in sentence:\n",
        "        count_wiki[word] += 1\n",
        "words_top_wiki = [token_count_pair[0] for token_count_pair in count.most_common(1000)]"
      ],
      "execution_count": 0,
      "outputs": []
    },
    {
      "metadata": {
        "id": "BehAmVzFR5nM",
        "colab_type": "text"
      },
      "cell_type": "markdown",
      "source": [
        "##### t-SNE visualization"
      ]
    },
    {
      "metadata": {
        "id": "v5AzJzBRR_UE",
        "colab_type": "code",
        "colab": {
          "base_uri": "https://localhost:8080/",
          "height": 962
        },
        "outputId": "54aeeecc-42a9-4612-e46c-053bcc942e1c"
      },
      "cell_type": "code",
      "source": [
        "# This assumes words_top_wiki is a list of strings, the top 1000 words\n",
        "words_top_vec_wiki = model_wiki[words_top_wiki]\n",
        "\n",
        "tsne = TSNE(n_components=2, random_state=0)\n",
        "words_top_wiki_tsne = tsne.fit_transform(words_top_vec_wiki)"
      ],
      "execution_count": 48,
      "outputs": [
        {
          "output_type": "stream",
          "text": [
            "/usr/local/lib/python3.6/dist-packages/ipykernel_launcher.py:1: DeprecationWarning: Call to deprecated `__getitem__` (Method will be removed in 4.0.0, use self.wv.__getitem__() instead).\n",
            "  \"\"\"Entry point for launching an IPython kernel.\n"
          ],
          "name": "stderr"
        },
        {
          "output_type": "error",
          "ename": "KeyError",
          "evalue": "ignored",
          "traceback": [
            "\u001b[0;31m---------------------------------------------------------------------------\u001b[0m",
            "\u001b[0;31mKeyError\u001b[0m                                  Traceback (most recent call last)",
            "\u001b[0;32m<ipython-input-48-663aa85a1eb3>\u001b[0m in \u001b[0;36m<module>\u001b[0;34m()\u001b[0m\n\u001b[0;32m----> 1\u001b[0;31m \u001b[0mwords_top_vec_wiki\u001b[0m \u001b[0;34m=\u001b[0m \u001b[0mmodel_wiki\u001b[0m\u001b[0;34m[\u001b[0m\u001b[0mwords_top_wiki\u001b[0m\u001b[0;34m]\u001b[0m\u001b[0;34m\u001b[0m\u001b[0m\n\u001b[0m\u001b[1;32m      2\u001b[0m \u001b[0;34m\u001b[0m\u001b[0m\n\u001b[1;32m      3\u001b[0m \u001b[0mtsne\u001b[0m \u001b[0;34m=\u001b[0m \u001b[0mTSNE\u001b[0m\u001b[0;34m(\u001b[0m\u001b[0mn_components\u001b[0m\u001b[0;34m=\u001b[0m\u001b[0;36m2\u001b[0m\u001b[0;34m,\u001b[0m \u001b[0mrandom_state\u001b[0m\u001b[0;34m=\u001b[0m\u001b[0;36m0\u001b[0m\u001b[0;34m)\u001b[0m\u001b[0;34m\u001b[0m\u001b[0m\n\u001b[1;32m      4\u001b[0m \u001b[0mwords_top_wiki_tsne\u001b[0m \u001b[0;34m=\u001b[0m \u001b[0mtsne\u001b[0m\u001b[0;34m.\u001b[0m\u001b[0mfit_transform\u001b[0m\u001b[0;34m(\u001b[0m\u001b[0mwords_top_vec_wiki\u001b[0m\u001b[0;34m)\u001b[0m\u001b[0;34m\u001b[0m\u001b[0m\n",
            "\u001b[0;32m/usr/local/lib/python3.6/dist-packages/gensim/utils.py\u001b[0m in \u001b[0;36mnew_func1\u001b[0;34m(*args, **kwargs)\u001b[0m\n\u001b[1;32m   1396\u001b[0m                     \u001b[0mstacklevel\u001b[0m\u001b[0;34m=\u001b[0m\u001b[0;36m2\u001b[0m\u001b[0;34m\u001b[0m\u001b[0m\n\u001b[1;32m   1397\u001b[0m                 )\n\u001b[0;32m-> 1398\u001b[0;31m                 \u001b[0;32mreturn\u001b[0m \u001b[0mfunc\u001b[0m\u001b[0;34m(\u001b[0m\u001b[0;34m*\u001b[0m\u001b[0margs\u001b[0m\u001b[0;34m,\u001b[0m \u001b[0;34m**\u001b[0m\u001b[0mkwargs\u001b[0m\u001b[0;34m)\u001b[0m\u001b[0;34m\u001b[0m\u001b[0m\n\u001b[0m\u001b[1;32m   1399\u001b[0m \u001b[0;34m\u001b[0m\u001b[0m\n\u001b[1;32m   1400\u001b[0m             \u001b[0;32mreturn\u001b[0m \u001b[0mnew_func1\u001b[0m\u001b[0;34m\u001b[0m\u001b[0m\n",
            "\u001b[0;32m/usr/local/lib/python3.6/dist-packages/gensim/models/word2vec.py\u001b[0m in \u001b[0;36m__getitem__\u001b[0;34m(self, words)\u001b[0m\n\u001b[1;32m    819\u001b[0m         \u001b[0mRefer\u001b[0m \u001b[0mto\u001b[0m \u001b[0mthe\u001b[0m \u001b[0mdocumentation\u001b[0m \u001b[0;32mfor\u001b[0m\u001b[0;31m \u001b[0m\u001b[0;31m`\u001b[0m\u001b[0mgensim\u001b[0m\u001b[0;34m.\u001b[0m\u001b[0mmodels\u001b[0m\u001b[0;34m.\u001b[0m\u001b[0mkeyedvectors\u001b[0m\u001b[0;34m.\u001b[0m\u001b[0mWord2VecKeyedVectors\u001b[0m\u001b[0;34m.\u001b[0m\u001b[0m__getitem__\u001b[0m\u001b[0;31m`\u001b[0m\u001b[0;34m\u001b[0m\u001b[0m\n\u001b[1;32m    820\u001b[0m         \"\"\"\n\u001b[0;32m--> 821\u001b[0;31m         \u001b[0;32mreturn\u001b[0m \u001b[0mself\u001b[0m\u001b[0;34m.\u001b[0m\u001b[0mwv\u001b[0m\u001b[0;34m.\u001b[0m\u001b[0m__getitem__\u001b[0m\u001b[0;34m(\u001b[0m\u001b[0mwords\u001b[0m\u001b[0;34m)\u001b[0m\u001b[0;34m\u001b[0m\u001b[0m\n\u001b[0m\u001b[1;32m    822\u001b[0m \u001b[0;34m\u001b[0m\u001b[0m\n\u001b[1;32m    823\u001b[0m     \u001b[0;34m@\u001b[0m\u001b[0mdeprecated\u001b[0m\u001b[0;34m(\u001b[0m\u001b[0;34m\"Method will be removed in 4.0.0, use self.wv.__contains__() instead\"\u001b[0m\u001b[0;34m)\u001b[0m\u001b[0;34m\u001b[0m\u001b[0m\n",
            "\u001b[0;32m/usr/local/lib/python3.6/dist-packages/gensim/models/keyedvectors.py\u001b[0m in \u001b[0;36m__getitem__\u001b[0;34m(self, entities)\u001b[0m\n\u001b[1;32m    169\u001b[0m             \u001b[0;32mreturn\u001b[0m \u001b[0mself\u001b[0m\u001b[0;34m.\u001b[0m\u001b[0mget_vector\u001b[0m\u001b[0;34m(\u001b[0m\u001b[0mentities\u001b[0m\u001b[0;34m)\u001b[0m\u001b[0;34m\u001b[0m\u001b[0m\n\u001b[1;32m    170\u001b[0m \u001b[0;34m\u001b[0m\u001b[0m\n\u001b[0;32m--> 171\u001b[0;31m         \u001b[0;32mreturn\u001b[0m \u001b[0mvstack\u001b[0m\u001b[0;34m(\u001b[0m\u001b[0;34m[\u001b[0m\u001b[0mself\u001b[0m\u001b[0;34m.\u001b[0m\u001b[0mget_vector\u001b[0m\u001b[0;34m(\u001b[0m\u001b[0mentity\u001b[0m\u001b[0;34m)\u001b[0m \u001b[0;32mfor\u001b[0m \u001b[0mentity\u001b[0m \u001b[0;32min\u001b[0m \u001b[0mentities\u001b[0m\u001b[0;34m]\u001b[0m\u001b[0;34m)\u001b[0m\u001b[0;34m\u001b[0m\u001b[0m\n\u001b[0m\u001b[1;32m    172\u001b[0m \u001b[0;34m\u001b[0m\u001b[0m\n\u001b[1;32m    173\u001b[0m     \u001b[0;32mdef\u001b[0m \u001b[0m__contains__\u001b[0m\u001b[0;34m(\u001b[0m\u001b[0mself\u001b[0m\u001b[0;34m,\u001b[0m \u001b[0mentity\u001b[0m\u001b[0;34m)\u001b[0m\u001b[0;34m:\u001b[0m\u001b[0;34m\u001b[0m\u001b[0m\n",
            "\u001b[0;32m/usr/local/lib/python3.6/dist-packages/gensim/models/keyedvectors.py\u001b[0m in \u001b[0;36m<listcomp>\u001b[0;34m(.0)\u001b[0m\n\u001b[1;32m    169\u001b[0m             \u001b[0;32mreturn\u001b[0m \u001b[0mself\u001b[0m\u001b[0;34m.\u001b[0m\u001b[0mget_vector\u001b[0m\u001b[0;34m(\u001b[0m\u001b[0mentities\u001b[0m\u001b[0;34m)\u001b[0m\u001b[0;34m\u001b[0m\u001b[0m\n\u001b[1;32m    170\u001b[0m \u001b[0;34m\u001b[0m\u001b[0m\n\u001b[0;32m--> 171\u001b[0;31m         \u001b[0;32mreturn\u001b[0m \u001b[0mvstack\u001b[0m\u001b[0;34m(\u001b[0m\u001b[0;34m[\u001b[0m\u001b[0mself\u001b[0m\u001b[0;34m.\u001b[0m\u001b[0mget_vector\u001b[0m\u001b[0;34m(\u001b[0m\u001b[0mentity\u001b[0m\u001b[0;34m)\u001b[0m \u001b[0;32mfor\u001b[0m \u001b[0mentity\u001b[0m \u001b[0;32min\u001b[0m \u001b[0mentities\u001b[0m\u001b[0;34m]\u001b[0m\u001b[0;34m)\u001b[0m\u001b[0;34m\u001b[0m\u001b[0m\n\u001b[0m\u001b[1;32m    172\u001b[0m \u001b[0;34m\u001b[0m\u001b[0m\n\u001b[1;32m    173\u001b[0m     \u001b[0;32mdef\u001b[0m \u001b[0m__contains__\u001b[0m\u001b[0;34m(\u001b[0m\u001b[0mself\u001b[0m\u001b[0;34m,\u001b[0m \u001b[0mentity\u001b[0m\u001b[0;34m)\u001b[0m\u001b[0;34m:\u001b[0m\u001b[0;34m\u001b[0m\u001b[0m\n",
            "\u001b[0;32m/usr/local/lib/python3.6/dist-packages/gensim/models/keyedvectors.py\u001b[0m in \u001b[0;36mget_vector\u001b[0;34m(self, word)\u001b[0m\n\u001b[1;32m    275\u001b[0m \u001b[0;34m\u001b[0m\u001b[0m\n\u001b[1;32m    276\u001b[0m     \u001b[0;32mdef\u001b[0m \u001b[0mget_vector\u001b[0m\u001b[0;34m(\u001b[0m\u001b[0mself\u001b[0m\u001b[0;34m,\u001b[0m \u001b[0mword\u001b[0m\u001b[0;34m)\u001b[0m\u001b[0;34m:\u001b[0m\u001b[0;34m\u001b[0m\u001b[0m\n\u001b[0;32m--> 277\u001b[0;31m         \u001b[0;32mreturn\u001b[0m \u001b[0mself\u001b[0m\u001b[0;34m.\u001b[0m\u001b[0mword_vec\u001b[0m\u001b[0;34m(\u001b[0m\u001b[0mword\u001b[0m\u001b[0;34m)\u001b[0m\u001b[0;34m\u001b[0m\u001b[0m\n\u001b[0m\u001b[1;32m    278\u001b[0m \u001b[0;34m\u001b[0m\u001b[0m\n\u001b[1;32m    279\u001b[0m     \u001b[0;32mdef\u001b[0m \u001b[0mwords_closer_than\u001b[0m\u001b[0;34m(\u001b[0m\u001b[0mself\u001b[0m\u001b[0;34m,\u001b[0m \u001b[0mw1\u001b[0m\u001b[0;34m,\u001b[0m \u001b[0mw2\u001b[0m\u001b[0;34m)\u001b[0m\u001b[0;34m:\u001b[0m\u001b[0;34m\u001b[0m\u001b[0m\n",
            "\u001b[0;32m/usr/local/lib/python3.6/dist-packages/gensim/models/keyedvectors.py\u001b[0m in \u001b[0;36mword_vec\u001b[0;34m(self, word, use_norm)\u001b[0m\n\u001b[1;32m    272\u001b[0m             \u001b[0;32mreturn\u001b[0m \u001b[0mresult\u001b[0m\u001b[0;34m\u001b[0m\u001b[0m\n\u001b[1;32m    273\u001b[0m         \u001b[0;32melse\u001b[0m\u001b[0;34m:\u001b[0m\u001b[0;34m\u001b[0m\u001b[0m\n\u001b[0;32m--> 274\u001b[0;31m             \u001b[0;32mraise\u001b[0m \u001b[0mKeyError\u001b[0m\u001b[0;34m(\u001b[0m\u001b[0;34m\"word '%s' not in vocabulary\"\u001b[0m \u001b[0;34m%\u001b[0m \u001b[0mword\u001b[0m\u001b[0;34m)\u001b[0m\u001b[0;34m\u001b[0m\u001b[0m\n\u001b[0m\u001b[1;32m    275\u001b[0m \u001b[0;34m\u001b[0m\u001b[0m\n\u001b[1;32m    276\u001b[0m     \u001b[0;32mdef\u001b[0m \u001b[0mget_vector\u001b[0m\u001b[0;34m(\u001b[0m\u001b[0mself\u001b[0m\u001b[0;34m,\u001b[0m \u001b[0mword\u001b[0m\u001b[0;34m)\u001b[0m\u001b[0;34m:\u001b[0m\u001b[0;34m\u001b[0m\u001b[0m\n",
            "\u001b[0;31mKeyError\u001b[0m: \"word 'the' not in vocabulary\""
          ]
        }
      ]
    },
    {
      "metadata": {
        "id": "f4BSSQh9SDqb",
        "colab_type": "code",
        "colab": {
          "base_uri": "https://localhost:8080/",
          "height": 231
        },
        "outputId": "abbfb8a4-6991-4fa1-ee09-20e3abbc2235"
      },
      "cell_type": "code",
      "source": [
        "p = figure(tools=\"pan,wheel_zoom,reset,save\",\n",
        "           toolbar_location=\"above\",\n",
        "           title=\"word2vec T-SNE for most common words\")\n",
        "\n",
        "source = ColumnDataSource(data=dict(x1=words_top_wiki_tsne[:,0],\n",
        "                                    x2=words_top_wiki_tsne[:,1],\n",
        "                                    names=words_top_wiki))\n",
        "\n",
        "p.scatter(x=\"x1\", y=\"x2\", size=8, source=source)\n",
        "\n",
        "labels = LabelSet(x=\"x1\", y=\"x2\", text=\"names\", y_offset=6,\n",
        "                  text_font_size=\"8pt\", text_color=\"#555555\",\n",
        "                  source=source, text_align='center')\n",
        "p.add_layout(labels)\n",
        "\n",
        "show(p)"
      ],
      "execution_count": 49,
      "outputs": [
        {
          "output_type": "error",
          "ename": "NameError",
          "evalue": "ignored",
          "traceback": [
            "\u001b[0;31m---------------------------------------------------------------------------\u001b[0m",
            "\u001b[0;31mNameError\u001b[0m                                 Traceback (most recent call last)",
            "\u001b[0;32m<ipython-input-49-1b6ee1b654bb>\u001b[0m in \u001b[0;36m<module>\u001b[0;34m()\u001b[0m\n\u001b[1;32m      3\u001b[0m            title=\"word2vec T-SNE for most common words\")\n\u001b[1;32m      4\u001b[0m \u001b[0;34m\u001b[0m\u001b[0m\n\u001b[0;32m----> 5\u001b[0;31m source = ColumnDataSource(data=dict(x1=words_top_wiki_tsne[:,0],\n\u001b[0m\u001b[1;32m      6\u001b[0m                                     \u001b[0mx2\u001b[0m\u001b[0;34m=\u001b[0m\u001b[0mwords_top_wiki_tsne\u001b[0m\u001b[0;34m[\u001b[0m\u001b[0;34m:\u001b[0m\u001b[0;34m,\u001b[0m\u001b[0;36m1\u001b[0m\u001b[0;34m]\u001b[0m\u001b[0;34m,\u001b[0m\u001b[0;34m\u001b[0m\u001b[0m\n\u001b[1;32m      7\u001b[0m                                     names=words_top_wiki))\n",
            "\u001b[0;31mNameError\u001b[0m: name 'words_top_wiki_tsne' is not defined"
          ]
        }
      ]
    }
  ]
}